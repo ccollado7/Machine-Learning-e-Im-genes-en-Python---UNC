{
 "cells": [
  {
   "cell_type": "markdown",
   "metadata": {},
   "source": [
    "# Actividad 2 Curso MLIP 2020"
   ]
  },
  {
   "cell_type": "markdown",
   "metadata": {},
   "source": [
    "A continuación, se listarán ejercicios similares a los vistos en la clase 2 para que sean resueltos y entregados en Google Classroom."
   ]
  },
  {
   "cell_type": "markdown",
   "metadata": {},
   "source": [
    "## Ejercicio 1: Pirámide"
   ]
  },
  {
   "cell_type": "markdown",
   "metadata": {},
   "source": [
    "a) En este ejercicio de deberá construir una pirámide negra sobre un fondo blanco, debe tener el siguiente aspecto:"
   ]
  },
  {
   "cell_type": "markdown",
   "metadata": {},
   "source": [
    "<img src=\"piramide.png\">"
   ]
  },
  {
   "cell_type": "markdown",
   "metadata": {},
   "source": [
    "**Pista 1:** Dicha pirámide puede ser construida de la misma manera que construimos la cruz en clase. Utilice cuadrados negros y blancos de tamaño de 64 x 64.\n",
    "\n",
    "**Pista 2:** El tamaño que debe poseer la pirámide es de 192 x 320.\n",
    "b) muestre la imagen generada utilizando la librería `matplotlib` (recuerde que debe importar la librería previamente)"
   ]
  },
  {
   "cell_type": "code",
   "execution_count": 1,
   "metadata": {},
   "outputs": [],
   "source": [
    "# ESCRIBA AQUÍ EL CÓDIGO. UTILICE TANTAS CELDAS COMO SEA NECESARIO."
   ]
  },
  {
   "cell_type": "markdown",
   "metadata": {},
   "source": [
    "## Ejercicio 2: Carga y Edición de Imagen"
   ]
  },
  {
   "cell_type": "markdown",
   "metadata": {},
   "source": [
    "a) Cargue una imagen a color utilizando la librería `PIL` y muestre la misma utilizando `matplotlib` (recuerde que debe importar las librerías previamente).\n",
    "\n",
    "b) Una vez mostrada la imagen, indique cuál es el tamaño, el modo y el formato de la misma.\n",
    "\n",
    "c) Transformar la imagen de color a escala de grises y mostrar la misma utilizando `matplotlib`."
   ]
  },
  {
   "cell_type": "code",
   "execution_count": 2,
   "metadata": {},
   "outputs": [],
   "source": [
    "# ESCRIBA AQUÍ EL CÓDIGO. UTILICE TANTAS CELDAS COMO SEA NECESARIO."
   ]
  },
  {
   "cell_type": "markdown",
   "metadata": {},
   "source": [
    "## Ejercicio 3: Formatos de Imagen"
   ]
  },
  {
   "cell_type": "markdown",
   "metadata": {},
   "source": [
    "a) Cargue una imagen a color utilizando la librería `PIL` (recuerde que debe importarla previamente).\n",
    "\n",
    "b) Obtenga tres imágenes arreglos utilizando la librería `numpy` : las componentes colorada, verde y azul (RGB) de la misma imagen. \n",
    "\n",
    "c) Grafique los tres arreglos o componentes por separado utilizando la librería `matplotlib` (recuerde que debe importarla previamente). Imprima el tamaño de cada una de las componentes utilizando el método `shape`.\n",
    "\n",
    "d) ¿Qué puede decir al respecto del tamaño de cada una de las componentes? Explique por qué ocurre dicha coincidencia. "
   ]
  },
  {
   "cell_type": "code",
   "execution_count": 4,
   "metadata": {},
   "outputs": [],
   "source": [
    "# ESCRIBA AQUÍ EL CÓDIGO. UTILICE TANTAS CELDAS COMO SEA NECESARIO."
   ]
  },
  {
   "cell_type": "markdown",
   "metadata": {},
   "source": [
    "## Ejercicio 4: trabajo en clase"
   ]
  },
  {
   "cell_type": "markdown",
   "metadata": {},
   "source": [
    "Adjunte la consigna y resolución de alguno de los ejercicios propuestos y realizados en clase"
   ]
  },
  {
   "cell_type": "code",
   "execution_count": 4,
   "metadata": {},
   "outputs": [],
   "source": [
    "# ESCRIBA AQUÍ EL CÓDIGO. UTILICE TANTAS CELDAS COMO SEA NECESARIO."
   ]
  }
 ],
 "metadata": {
  "kernelspec": {
   "display_name": "Python 3",
   "language": "python",
   "name": "python3"
  },
  "language_info": {
   "codemirror_mode": {
    "name": "ipython",
    "version": 3
   },
   "file_extension": ".py",
   "mimetype": "text/x-python",
   "name": "python",
   "nbconvert_exporter": "python",
   "pygments_lexer": "ipython3",
   "version": "3.8.3"
  }
 },
 "nbformat": 4,
 "nbformat_minor": 4
}
