{
 "cells": [
  {
   "cell_type": "markdown",
   "metadata": {
    "colab_type": "text",
    "id": "6CGWSp8PvNBa"
   },
   "source": [
    "# <center> Curso Machine Learning e Imágenes en Python 2020\n",
    "    \n",
    "* Docentes:  Dra. Valeria S. Rulloni - Dra. Ana Carolina Maldonado\n",
    "* Ing. Axel Aguerreberry -  Ing. Sebastián Palacio\n",
    "* Colaborador: Ing. Juan Manuel López\n",
    "\n",
    "\n",
    "## Temario a desarrollar:\n",
    "*\t**Uso y herramientas básicas de Python**\n",
    "*\tImágenes digitales: tipos (binarias, monocromáticas y a color)\n",
    "*\tHistograma. Mejora de la imagen: contraste, filtros: suavizado y detección de bordes.\n",
    "*\tUmbralado y Binarización. Operaciones Morfológicas: erosión, dilatación, cierre y apertura.\n",
    "*\tAplicaciones\n",
    "*\tClasificación de imágenes.\n",
    "*\tAprendizaje automático\n",
    "*\tAprendizaje profundo: Redes neuronales\n",
    "*\tAplicaciones \n",
    "\n",
    "\n",
    "**Recomendación:**\n",
    "+ Antes que nada **realice una copia de este archivo y trabaje en ella** (File-> Make a Copy, puede cambiarle el nombre fácilmente). Guárdelo en la misma carpeta de preferencia (si está en Colaboratory lo guarda por defecto en la carpeta Colaboratory del drive, se puede reubicar).\n"
   ]
  },
  {
   "cell_type": "markdown",
   "metadata": {
    "colab_type": "text",
    "id": "Ex9kCb0EvNBc"
   },
   "source": [
    "**CLASE 1: 07-09-2020**  \n",
    "**Uso Básico de Python** (con Jupyter Notebook o en Colaboratory):\n",
    "\n",
    "## Inicio y consideraciones\n",
    "+ Este archivo y todos los de extensión .ipynb se abren con Jupyter Notebook (de Anaconda) o Google Colaboratory y se dividen en bloques.\n",
    "+ Básicamente: bloques de texto (Markdown) y otros de código (Code, en Python). \n",
    "+ Cualquier bloque se ejecuta con shift+enter o utilizando el botón Run.\n",
    "+ Los bloques se pueden eliminar con el menú Edit. O con los botones correspondientes (cortar, copiar, pegar, desplazar).\n",
    "+ El archivo se puede ejecutar en el entorno de Windows en la carpeta correspondiente (o desde cualquiera si se ha configurado el path) mediante el comando python en línea de comandos\n",
    "\n",
    "**En los bloques de texto (Markdown)** :\n",
    "\n",
    "* Mediante un doble clic en el bloque, posibilito la modificación del mismo.\n",
    "* Para títulos se usa # y luego del símbolo # se debe dejar un espacio.\n",
    "* Con varios ## se manejan los subtítulos por niveles y, con esto, el tamaño de la letra.\n",
    "* Encerrando un texto entre uno o dos asteriscos se consigue texto en cursiva o negrita.\n",
    "\n",
    "**En los bloques de código (Code)** :\n",
    "* Si el renglón  empieza con # es comentario, si no, es instrucción.\n",
    "* En una línea de instrucción, se pueda agregar al final un comentario luego de #.\n",
    "\n",
    "\n",
    "**shift+enter** para ejecutar cada celda/bloque/Cell (o botón Run), tanto en bloque de textos como de códigos\n",
    "\n"
   ]
  },
  {
   "cell_type": "markdown",
   "metadata": {
    "colab_type": "text",
    "id": "eWS0Q_yjvNBd"
   },
   "source": [
    "# 1 Instrucciones Básicas\n",
    "\n",
    "## 1.1 Datos\n",
    "\n",
    "**Captura de Datos: input**  \n",
    "**Muestra de Datos: print**"
   ]
  },
  {
   "cell_type": "code",
   "execution_count": 1,
   "metadata": {
    "colab": {
     "base_uri": "https://localhost:8080/",
     "height": 69
    },
    "colab_type": "code",
    "executionInfo": {
     "elapsed": 10162,
     "status": "ok",
     "timestamp": 1598310697819,
     "user": {
      "displayName": "SEBASTIAN PALACIO",
      "photoUrl": "https://lh3.googleusercontent.com/a-/AOh14Gj0ddKMgrPI-D45xKXtxfVNlN1JxRcCa9xfEbCM=s64",
      "userId": "06363896077793303054"
     },
     "user_tz": 180
    },
    "id": "-9UIBrzovNBf",
    "outputId": "bec1454e-44dd-4c0a-abd3-0307f38769a7"
   },
   "outputs": [
    {
     "name": "stdout",
     "output_type": "stream",
     "text": [
      "Dígame un número: 7\n",
      "El nro ingresado es:  7\n",
      "El tipo del dato ingresado es  <class 'str'>\n"
     ]
    }
   ],
   "source": [
    "# Se pide el ingreso de un número por teclado y se muestra el número y el tipo de dato.\n",
    "# Si no forzamos el tipo de dato en el ingreso, lo toma como string (cadena de caracteres)\n",
    "numero = input(\"Dígame un número: \")\n",
    "print(\"El nro ingresado es: \",numero)\n",
    "print(\"El tipo del dato ingresado es \",type(numero))"
   ]
  },
  {
   "cell_type": "markdown",
   "metadata": {
    "colab_type": "text",
    "id": "j3WMOyf0vNBn"
   },
   "source": [
    "**Tipos de datos básicos en Python:**\n",
    "\n",
    "int\n",
    "\n",
    "float\n",
    "\n",
    "str\n",
    "\n",
    "bool\n",
    "\n",
    "complex"
   ]
  },
  {
   "cell_type": "markdown",
   "metadata": {
    "colab_type": "text",
    "id": "y6ri7I6JvNBo"
   },
   "source": [
    "**Si desea que el número corresponda a un tipo de dato numérico, por ejemplo número entero o flotante, debe darle la orden**"
   ]
  },
  {
   "cell_type": "code",
   "execution_count": 2,
   "metadata": {
    "colab": {
     "base_uri": "https://localhost:8080/",
     "height": 69
    },
    "colab_type": "code",
    "executionInfo": {
     "elapsed": 16011,
     "status": "ok",
     "timestamp": 1598310703675,
     "user": {
      "displayName": "SEBASTIAN PALACIO",
      "photoUrl": "https://lh3.googleusercontent.com/a-/AOh14Gj0ddKMgrPI-D45xKXtxfVNlN1JxRcCa9xfEbCM=s64",
      "userId": "06363896077793303054"
     },
     "user_tz": 180
    },
    "id": "JX7DSfyGvNBq",
    "outputId": "078e6e4d-2089-46e0-e47f-811a2ba42042"
   },
   "outputs": [
    {
     "name": "stdout",
     "output_type": "stream",
     "text": [
      "Dígame un número: 9\n",
      "El nro ingresado es:  9\n",
      "El tipo del dato ingresado es  <class 'int'> porque se lo forzó\n"
     ]
    }
   ],
   "source": [
    "numero = int(input(\"Dígame un número: \"))\n",
    "print(\"El nro ingresado es: \", numero)\n",
    "print(\"El tipo del dato ingresado es \",type(numero), \"porque se lo forzó\")"
   ]
  },
  {
   "cell_type": "markdown",
   "metadata": {
    "colab_type": "text",
    "id": "SKLFuvfqvNBx"
   },
   "source": [
    "Si asignamos un valor numérico a una variable, esta define automáticamente el tipo.\n",
    "\n",
    "Los números reales se almacenan en variables tipo \"float\".\n",
    "\n",
    "Los valores que puede representar van desde ±2,2250738585072020 x 10308 hasta ±1,7976931348623157×10308, ya que utilizan 64 bits.\n"
   ]
  },
  {
   "cell_type": "code",
   "execution_count": 3,
   "metadata": {
    "colab": {
     "base_uri": "https://localhost:8080/",
     "height": 69
    },
    "colab_type": "code",
    "executionInfo": {
     "elapsed": 16007,
     "status": "ok",
     "timestamp": 1598310703676,
     "user": {
      "displayName": "SEBASTIAN PALACIO",
      "photoUrl": "https://lh3.googleusercontent.com/a-/AOh14Gj0ddKMgrPI-D45xKXtxfVNlN1JxRcCa9xfEbCM=s64",
      "userId": "06363896077793303054"
     },
     "user_tz": 180
    },
    "id": "njvtrlsXvNBy",
    "outputId": "e8097794-c70b-4cab-e886-1f0924067a26"
   },
   "outputs": [
    {
     "name": "stdout",
     "output_type": "stream",
     "text": [
      "Asignacion de un número entero a una variable. El dato asignado es  24  y su tipo es  <class 'int'>\n",
      "Asignacion de un número real a una variable. El dato asignado es  24.0  y su tipo es  <class 'float'>\n",
      "El dato asignado a la variable es  456966786151987643 y su tipo es  <class 'int'>\n"
     ]
    }
   ],
   "source": [
    "nroi=24\n",
    "print(\"Asignacion de un número entero a una variable. El dato asignado es \",nroi,\" y su tipo es \",type(nroi))\n",
    "nrof=24.0\n",
    "print(\"Asignacion de un número real a una variable. El dato asignado es \",nrof,\" y su tipo es \",type(nrof))\n",
    "\n",
    "#Asignamos un entero largo\n",
    "nroL=456966786151987643\n",
    "print(\"El dato asignado a la variable es \", nroL, \"y su tipo es \",type(nroL))\n"
   ]
  },
  {
   "cell_type": "markdown",
   "metadata": {
    "colab_type": "text",
    "id": "ebPDUDoEvNB5"
   },
   "source": [
    "**También se pueden asignar valores utilizando notación científica**"
   ]
  },
  {
   "cell_type": "code",
   "execution_count": 4,
   "metadata": {
    "colab": {
     "base_uri": "https://localhost:8080/",
     "height": 52
    },
    "colab_type": "code",
    "executionInfo": {
     "elapsed": 16005,
     "status": "ok",
     "timestamp": 1598310703677,
     "user": {
      "displayName": "SEBASTIAN PALACIO",
      "photoUrl": "https://lh3.googleusercontent.com/a-/AOh14Gj0ddKMgrPI-D45xKXtxfVNlN1JxRcCa9xfEbCM=s64",
      "userId": "06363896077793303054"
     },
     "user_tz": 180
    },
    "id": "6L8mIYngvNB7",
    "outputId": "d1d8b11b-8c63-44b8-b706-76f324ad2db2"
   },
   "outputs": [
    {
     "name": "stdout",
     "output_type": "stream",
     "text": [
      "0.002\n",
      "El tipo de dato asignado con notación científica es  <class 'float'>\n"
     ]
    }
   ],
   "source": [
    "nror=2e-3\n",
    "print(nror)\n",
    "print(\"El tipo de dato asignado con notación científica es \",type(nror))"
   ]
  },
  {
   "cell_type": "markdown",
   "metadata": {
    "colab_type": "text",
    "id": "Flju18ChvNCB"
   },
   "source": [
    "**En las versiones actuales no hace falta definir enteros long. Toma tantos bits para almacenar como haga falta**"
   ]
  },
  {
   "cell_type": "code",
   "execution_count": 5,
   "metadata": {
    "colab": {
     "base_uri": "https://localhost:8080/",
     "height": 52
    },
    "colab_type": "code",
    "executionInfo": {
     "elapsed": 16003,
     "status": "ok",
     "timestamp": 1598310703678,
     "user": {
      "displayName": "SEBASTIAN PALACIO",
      "photoUrl": "https://lh3.googleusercontent.com/a-/AOh14Gj0ddKMgrPI-D45xKXtxfVNlN1JxRcCa9xfEbCM=s64",
      "userId": "06363896077793303054"
     },
     "user_tz": 180
    },
    "id": "5ZNZg3GevNCD",
    "outputId": "d74c17e4-584e-4950-e22c-26712ea8ddc6"
   },
   "outputs": [
    {
     "name": "stdout",
     "output_type": "stream",
     "text": [
      "-3\n",
      "3\n"
     ]
    }
   ],
   "source": [
    "#Se puede calcular el valor absoluto de un número (sin recurrir a librerías)\n",
    "nro=-3\n",
    "print(nro)\n",
    "\n",
    "c=abs(nro)\n",
    "print(c)\n"
   ]
  },
  {
   "cell_type": "code",
   "execution_count": 6,
   "metadata": {
    "colab": {
     "base_uri": "https://localhost:8080/",
     "height": 104
    },
    "colab_type": "code",
    "executionInfo": {
     "elapsed": 16001,
     "status": "ok",
     "timestamp": 1598310703679,
     "user": {
      "displayName": "SEBASTIAN PALACIO",
      "photoUrl": "https://lh3.googleusercontent.com/a-/AOh14Gj0ddKMgrPI-D45xKXtxfVNlN1JxRcCa9xfEbCM=s64",
      "userId": "06363896077793303054"
     },
     "user_tz": 180
    },
    "id": "77uFNyJ4vNCJ",
    "outputId": "066c1a30-8cce-42b7-fdeb-65d3a3008310"
   },
   "outputs": [
    {
     "name": "stdout",
     "output_type": "stream",
     "text": [
      "0.348 <class 'float'>\n",
      "-10.5 <class 'float'>\n",
      "150.0 <class 'float'>\n",
      "5 <class 'float'>\n",
      "hola <class 'str'>\n"
     ]
    }
   ],
   "source": [
    "#Se pueden hacer asignaciones simultáneas así como se concatena la muestra en pantalla\n",
    "nro_1, nro_2, nro_3, nro_4 , var = 0.348, -10.5, 1.5e2, 5, \"hola\"\n",
    "print (nro_1, type(nro_1))\n",
    "print (nro_2, type(nro_2))\n",
    "print (nro_3, type(nro_3))\n",
    "print (nro_4, type(nro_3))\n",
    "print (var, type(var))"
   ]
  },
  {
   "cell_type": "markdown",
   "metadata": {
    "colab_type": "text",
    "id": "ZVtVADmkvNCQ"
   },
   "source": [
    "**Puede convertir tipos de datos numéricos con las funciones\n",
    "int(), float(), complex()**\n"
   ]
  },
  {
   "cell_type": "code",
   "execution_count": 7,
   "metadata": {
    "colab": {
     "base_uri": "https://localhost:8080/",
     "height": 35
    },
    "colab_type": "code",
    "executionInfo": {
     "elapsed": 15999,
     "status": "ok",
     "timestamp": 1598310703679,
     "user": {
      "displayName": "SEBASTIAN PALACIO",
      "photoUrl": "https://lh3.googleusercontent.com/a-/AOh14Gj0ddKMgrPI-D45xKXtxfVNlN1JxRcCa9xfEbCM=s64",
      "userId": "06363896077793303054"
     },
     "user_tz": 180
    },
    "id": "BUeGSaarvNCR",
    "outputId": "05403e20-d987-494a-fe10-a0452ab23b5d"
   },
   "outputs": [
    {
     "name": "stdout",
     "output_type": "stream",
     "text": [
      "<class 'float'> 3 3.0 3.4\n"
     ]
    }
   ],
   "source": [
    "h=type(3.4)\n",
    "o=int(3.4)\n",
    "l=float(3)\n",
    "a=float(3.4)\n",
    "print(h, o, l, a)\n",
    "#float(\"palabra\") #función inválida para dato string"
   ]
  },
  {
   "cell_type": "code",
   "execution_count": 8,
   "metadata": {
    "colab": {},
    "colab_type": "code",
    "executionInfo": {
     "elapsed": 15996,
     "status": "ok",
     "timestamp": 1598310703680,
     "user": {
      "displayName": "SEBASTIAN PALACIO",
      "photoUrl": "https://lh3.googleusercontent.com/a-/AOh14Gj0ddKMgrPI-D45xKXtxfVNlN1JxRcCa9xfEbCM=s64",
      "userId": "06363896077793303054"
     },
     "user_tz": 180
    },
    "id": "7ovtZk5LvNCX"
   },
   "outputs": [],
   "source": [
    "#este bloque de código es para que pruebe con otros ejemplos similares de lo visto hasta ahora:\n",
    "\n"
   ]
  },
  {
   "cell_type": "markdown",
   "metadata": {
    "colab_type": "text",
    "id": "-jQm3JgFvNCc"
   },
   "source": [
    "## 1.2 Operaciones Aritméticas y asignación de variables\n",
    "\n",
    "### Operaciones Aritméticas Elementales: + ,   - ,  *  ,  /   **  "
   ]
  },
  {
   "cell_type": "code",
   "execution_count": null,
   "metadata": {
    "colab": {},
    "colab_type": "code",
    "id": "5xSJOJHhvNCd"
   },
   "outputs": [],
   "source": [
    "#Ingresando un número por teclado\n",
    "x = float(input(\"Dígame un número, lo guardaremos en la variable x: \"))\n",
    "print(\"El nro ingresado es: \",x)\n",
    "\n",
    "print(\"Tipo de x:\")\n",
    "print(type(x))  # Imprime el tipo (o `clase`) de x\n",
    "print(\"Valor de la variable x es \",x)"
   ]
  },
  {
   "cell_type": "code",
   "execution_count": null,
   "metadata": {
    "colab": {},
    "colab_type": "code",
    "id": "SZWY-aibvNCk"
   },
   "outputs": [],
   "source": [
    "print(\"El resultado de sumarle 1 es \",x+1)\n",
    "print(\"x-1=\",x-1)\n",
    "print(\"x*2=\",x*2)\n",
    "print(\"x/2=\",x/2)\n",
    "print(\"si elevamos al cuadrado a x \",x**2) \n",
    "print(\"Para imprimir varios valores en una línea:\")\n",
    "print(1,2,x,5*2) # imprime varios valores a la vez en la misma línea, separarlos por coma"
   ]
  },
  {
   "cell_type": "markdown",
   "metadata": {
    "colab_type": "text",
    "id": "FaxhuEmfvNCp"
   },
   "source": [
    "### Asignación de variables y Operaciones entre enteros"
   ]
  },
  {
   "cell_type": "code",
   "execution_count": null,
   "metadata": {
    "colab": {},
    "colab_type": "code",
    "id": "nlR9B3usvNCq"
   },
   "outputs": [],
   "source": [
    "#Operaciones entre números enteros: cociente y resto (o módulo)\n",
    "a=9\n",
    "b=2\n",
    "c=a//b #Cociente entre enteros\n",
    "d=a%b #Resto entre enteros\n",
    "print(a)\n",
    "print(b)\n",
    "print(c)#Cociente entre enteros- Devuelve 4\n",
    "print(d)#Resto entre enteros- Devuelve 1"
   ]
  },
  {
   "cell_type": "code",
   "execution_count": null,
   "metadata": {
    "colab": {},
    "colab_type": "code",
    "id": "LnEo228OvNCx"
   },
   "outputs": [],
   "source": [
    "#este bloque de código es para que pruebe con otros ejemplos similares de lo visto hasta ahora:\n",
    "\n"
   ]
  },
  {
   "cell_type": "markdown",
   "metadata": {
    "colab_type": "text",
    "id": "BeJtru-OvNC4"
   },
   "source": [
    "**Ejercicio 1: Definir una variable $a$ con valor 5 y una variable $b$ que sea igual al cubo de la anterior más 2. Mostrarlas en pantalla**"
   ]
  },
  {
   "cell_type": "code",
   "execution_count": null,
   "metadata": {
    "colab": {},
    "colab_type": "code",
    "id": "WWxR7xkavNC5"
   },
   "outputs": [],
   "source": []
  },
  {
   "cell_type": "markdown",
   "metadata": {
    "colab_type": "text",
    "id": "ZiciOwC1vNC_"
   },
   "source": [
    "**Ejercicio 2: En el siguiente bloque o en un nuevo cuaderno (notebook) definir** \n",
    "* (a) la variable **var1** que contenga al número 10. Luego a \n",
    "* (b) **var2** como el doble de var y \n",
    "* (c) **var3** como el resultado de una cuenta combinada a su gusto.\n",
    "* (d) Imprima los resultados"
   ]
  },
  {
   "cell_type": "code",
   "execution_count": null,
   "metadata": {
    "colab": {},
    "colab_type": "code",
    "id": "kUde0iwKvNDA"
   },
   "outputs": [],
   "source": []
  },
  {
   "cell_type": "markdown",
   "metadata": {
    "colab_type": "text",
    "id": "KNIp-tKOvNDG"
   },
   "source": [
    "## 1.3 Operadores \n",
    "\n",
    "**Lista de Operadores de Asignación**\n",
    "\n",
    "Operador =\n",
    "\n",
    "Operador +=\n",
    "\n",
    "Operador -=\n",
    "\n",
    "Operador *=\n",
    "\n",
    "Operador /=\n",
    "\n",
    "Operador**=\n",
    "\n",
    "Operador //=\n",
    "\n",
    "Operador %=\n",
    "\n"
   ]
  },
  {
   "cell_type": "code",
   "execution_count": null,
   "metadata": {
    "colab": {},
    "colab_type": "code",
    "id": "14uROtwOvNDH"
   },
   "outputs": [],
   "source": [
    "# primero defino variables con valores\n",
    "a, b, c, d = 21, 10, 5, 3\n",
    "print(c, type(c))"
   ]
  },
  {
   "cell_type": "code",
   "execution_count": null,
   "metadata": {
    "colab": {},
    "colab_type": "code",
    "id": "JDE4XwInvNDO"
   },
   "outputs": [],
   "source": [
    "#Ejemplos con el uso de operadores de asignación\n",
    "c += 1\n",
    "#A c le suma 1 y el resultado es guardado en c\n",
    "print (\"Operador +=  c+=1| El valor de variable 'c' ahora es \", c)\n",
    "\n",
    "c *= 10\n",
    "#El valor guardado en c es multiplicado por el valor de a y el resultado es almacenado en c\n",
    "print (\"Operador *= | El nuevo valor de variable c, c*=10 es \", c)\n",
    "\n",
    "c /= 10 \n",
    "#Lo mismo que en el caso anterior con la división\n",
    "print (\"Operador /= | El nuevo valor de variable c, c/=10 es \", c)\n",
    "\n",
    "b **= d\n",
    "#Se eleva b al exponente d\n",
    "print (\"Operador **= | El nuevo valor de b, resultado de elevar b al exponente d, b**=d \", b)\n",
    "\n",
    "b //= a\n",
    "print (\"Operador //= | El nuevo valor de b, resultado de dividir (en enteros) b por a, b//=a es \", b)\n",
    "\n",
    "\n",
    "c %= d\n",
    "# Se obtiene el resto de dividir c por d\n",
    "print (\"Operador %= | El nuevo valor de c, resto de la división en enteros, c por d, c%=d es \", c)\n",
    "\n",
    "print(c,type(c))\n"
   ]
  },
  {
   "cell_type": "code",
   "execution_count": null,
   "metadata": {
    "colab": {},
    "colab_type": "code",
    "id": "UDZh-AS6vNDU"
   },
   "outputs": [],
   "source": [
    "#más ejemplos mezclados\n",
    "y=2.5\n",
    "print(y, type(y))\n",
    "X=3\n",
    "z=x*y\n",
    "print(z,type(z))\n",
    "z+=x  #Equivale a z=z+x\n",
    "print(z)\n",
    "z-=y #Equivale a z=z-y\n",
    "print(z)\n"
   ]
  },
  {
   "cell_type": "markdown",
   "metadata": {
    "colab_type": "text",
    "id": "HGazRqi5vNDZ"
   },
   "source": [
    "**Ejercicio 3: En el siguiente bloque o en un nuevo cuaderno (notebook) definir, usando los operadores de asinación:** \n",
    "* (a) Definir una variable **x** que contenga al número 30. Luego \n",
    "* (b) cambiarla por el resto de dividir a **x** por 7 y \n",
    "* (c) luego como el resultado de una cuenta combinada a su gusto.\n",
    "* (d) Imprima los resultados parciales y el final"
   ]
  },
  {
   "cell_type": "code",
   "execution_count": null,
   "metadata": {
    "colab": {},
    "colab_type": "code",
    "id": "nqAg_JqjvNDa"
   },
   "outputs": [],
   "source": []
  },
  {
   "cell_type": "markdown",
   "metadata": {
    "colab_type": "text",
    "id": "P0u08WojvNDf"
   },
   "source": [
    "## 1.4 Datos booleanos (True y False)\n",
    "### Operaciones Lógicas AND, OR y NOT**"
   ]
  },
  {
   "cell_type": "markdown",
   "metadata": {
    "colab_type": "text",
    "id": "xDd3CBJhvNDg"
   },
   "source": [
    "![image.png](attachment:image.png)"
   ]
  },
  {
   "cell_type": "code",
   "execution_count": null,
   "metadata": {
    "colab": {},
    "colab_type": "code",
    "id": "0ODEHZrWvNDh"
   },
   "outputs": [],
   "source": [
    "#Tipo de dato booleano: 'bool'\n",
    "v1 = True #el valor verdadero: True \n",
    "v2 = False #el valor falso: False\n",
    "\n",
    "print(\"Valor de v1: \",v1, \"Su tipo es: \", type(v1))\n",
    "print(\"Valor de v2: \",v2, \"Su tipo es: \", type(v2))\n",
    "print()\n",
    "\n",
    "#Operaciones Lógicas y, o y negación\n",
    "print(\"v1 and v2= \", v1 and v2) # y lógico; imprime False\n",
    "print(\"v1 or v2= \",v1 or v2)  # o lógico; imprime True\n",
    "print(\"v1 negado= \",not v1)   # negación lógica, imprime False\n"
   ]
  },
  {
   "cell_type": "markdown",
   "metadata": {
    "colab_type": "text",
    "id": "hfoPugQVvNDm"
   },
   "source": [
    "### Comparaciones"
   ]
  },
  {
   "cell_type": "code",
   "execution_count": null,
   "metadata": {
    "colab": {},
    "colab_type": "code",
    "id": "fWyEE9N8vNDn"
   },
   "outputs": [],
   "source": [
    "#Comparaciones \n",
    "print (\"3==5\",3 == 5)  # Imprime False ya que son distintos\n",
    "print(\"3 !=6\",3 != 6)  # Imprime True ya que son distintos\n",
    "print(\"3<5\",3 < 5)  # Imprime True ya que 3 es menor que 5\n"
   ]
  },
  {
   "cell_type": "markdown",
   "metadata": {
    "colab_type": "text",
    "id": "Ve4HddVSvNDu"
   },
   "source": [
    "**Ejercicio 4:** \n",
    "* Defina dos variable booleanas A y B.\n",
    "* defina una variable C que defina si Ay B son verdaderas y D que defina si A o C son Verdaderas.\n",
    "* Reasigne valores a A y B usando comparaciones de números.\n",
    "* imprima en el proceso\n"
   ]
  },
  {
   "cell_type": "code",
   "execution_count": null,
   "metadata": {
    "colab": {},
    "colab_type": "code",
    "id": "yHAQtyjJvNDv"
   },
   "outputs": [],
   "source": []
  },
  {
   "cell_type": "markdown",
   "metadata": {
    "colab_type": "text",
    "id": "yEKN_SBmvND1"
   },
   "source": [
    "**Ejercicio 5:** \n",
    "* Asigne el valor 7 a la variable $x$.\n",
    "* Verifique e imprima la veracidad de la siguiente afirmación: $x^2+5-2$ igual a $(x*5-9)*2$, para el valor $x$ asignado en el item anterior, usando las herramientas vistas hasta el momento.\n",
    "* Verifique e imprima que no es cireto si x es -7"
   ]
  },
  {
   "cell_type": "code",
   "execution_count": null,
   "metadata": {
    "colab": {},
    "colab_type": "code",
    "id": "WZcED08ovND2"
   },
   "outputs": [],
   "source": []
  },
  {
   "cell_type": "markdown",
   "metadata": {
    "colab_type": "text",
    "id": "zclqS6w6vND7"
   },
   "source": [
    "## 1.5 Listas\n",
    "### Elementos de una lista: se colocan entre corchetes, separados por comas\n"
   ]
  },
  {
   "cell_type": "code",
   "execution_count": null,
   "metadata": {
    "colab": {},
    "colab_type": "code",
    "id": "N5mdC7l6vND9"
   },
   "outputs": [],
   "source": [
    "#Definamos una Lista\n",
    "#Para hacerlo se usan corchetes y se separan los elementos mediante coma\n",
    "lista=[1,3,5]\n",
    "print(\"lista= \",lista, \"su tipo es \", type(lista))\n",
    "\n",
    "#acceso a un elemento de la lista\n",
    "print(lista[0])"
   ]
  },
  {
   "cell_type": "code",
   "execution_count": null,
   "metadata": {
    "colab": {},
    "colab_type": "code",
    "id": "1IZL4_2hvNEC"
   },
   "outputs": [],
   "source": [
    "listavieja=['gato', 1, 2,3]\n",
    "listanueva=listavieja\n",
    "print('lista vieja ',listavieja)\n",
    "print('lista nueva igual a lista vieja', listanueva)\n",
    "listanueva[0]=5\n",
    "#Cambio en la lista nueva\n",
    "print('\\nCambio en la lista nueva:')\n",
    "print('lista vieja ',listavieja)\n",
    "print('lista nueva igual a lista vieja', listanueva)\n",
    "\n",
    "#Cambio en la lista vieja\n",
    "print('\\nCambio en la lista vieja')\n",
    "listavieja[2]='perro'\n",
    "print('lista vieja ',listavieja)\n",
    "print('lista nueva igual a lista vieja:', listanueva)\n",
    "print('\\nlos cambios se producen en las dos listas')"
   ]
  },
  {
   "cell_type": "code",
   "execution_count": null,
   "metadata": {
    "colab": {},
    "colab_type": "code",
    "id": "6MKOMc4BvNEH"
   },
   "outputs": [],
   "source": [
    "list = ['gato', 0, 6.7]\n",
    "\n",
    "# copio lista con list.copy\n",
    "new_list = list.copy()\n",
    "\n",
    "# Adding element to the new list\n",
    "new_list.append('perro')\n",
    "new_list[0]='gato siamés'\n",
    "# Printing new and old list\n",
    "print('Old List: ', list)\n",
    "print('New List: ', new_list)"
   ]
  },
  {
   "cell_type": "markdown",
   "metadata": {
    "colab_type": "text",
    "id": "GMxpoORGvNEO"
   },
   "source": [
    "### Operador in"
   ]
  },
  {
   "cell_type": "code",
   "execution_count": null,
   "metadata": {
    "colab": {},
    "colab_type": "code",
    "id": "agz-QCuivNEP"
   },
   "outputs": [],
   "source": [
    "#Definamos una Lista\n",
    "#Para hacerlo se usan corchetes y se separan los elementos mediante coma\n",
    "lista=[1,3,5]\n",
    "\n",
    "print(2 in lista)\n",
    "a=5\n",
    "\n",
    "res=a in lista\n",
    "print(res)"
   ]
  },
  {
   "cell_type": "markdown",
   "metadata": {
    "colab_type": "text",
    "id": "BkB4-2NlvNEW"
   },
   "source": [
    "### Operador not in"
   ]
  },
  {
   "cell_type": "code",
   "execution_count": null,
   "metadata": {
    "colab": {},
    "colab_type": "code",
    "id": "88kzzAEtvNEX"
   },
   "outputs": [],
   "source": [
    "lista=[1,3,5]\n",
    "print(1 not in lista)"
   ]
  },
  {
   "cell_type": "markdown",
   "metadata": {
    "colab_type": "text",
    "id": "0HPVYbBevNEc"
   },
   "source": [
    "### Seguimos con Tipo lista (de strings, de datos numéricos)\n",
    "* Concatenación de Listas: + \n",
    "* Append\n",
    "* Acceso a un elemento particular de la lista (por la posición que se indica entre corchetes\n",
    "* Primer elemento de una lista: posición 0\n",
    "* Diferencia entre Lista y Vector: la lista puede contener elementos de distinto tipo!"
   ]
  },
  {
   "cell_type": "code",
   "execution_count": null,
   "metadata": {
    "colab": {},
    "colab_type": "code",
    "id": "ci-PZWTYvNEd"
   },
   "outputs": [],
   "source": [
    "xs = [3, 1, 2]    # Crea una lista. Los elementos se colocan entre corchetes, separados por coma.\n",
    "print(xs, xs[2])  # Muestra \"[3, 1, 2] 2\"\n",
    "print(xs[-1])     # Indice negativo: implica que se cuenta desde el final de la lista; muestra \"2\"\n",
    "xs[2] = 'foo'     # Cambia el elemento final. Ahora la lista contiene elementos de distinto tipo\n",
    "print(xs)         # Muestra \"[3, 1, 'foo']\"\n",
    "xs.append('bar')  # Agrego un nuevo elemento al final\n",
    "print(xs)         # Muestra \"[3, 1, 'foo', 'bar']\"\n",
    "x = xs.pop()      # Tomo el último elemento de la lista\n",
    "print(x, xs)      # Muestro el elemento que quitamos y la lista que quedó: \"bar [3, 1, 'foo']\""
   ]
  },
  {
   "cell_type": "code",
   "execution_count": null,
   "metadata": {
    "colab": {},
    "colab_type": "code",
    "id": "RKDaXj6nvNEi"
   },
   "outputs": [],
   "source": [
    "#Ejemplos\n",
    "lista1=[\"hola\", \"que\", \"tal\",\"Juan\"]\n",
    "print(\"lista1=\", lista1)\n",
    "print(type(lista1)) #muestra el tipo lista\n",
    "print(type(lista1[0])) #muestra el tipo del elemento 0 (el primero)\n",
    "print(max(lista1)) #Para strings tiene en cuenta el código ASCII. \n",
    "# En el código ASCII las mayúsculas preceden a las minúsculas\n",
    "print(min(lista1))\n",
    "print(len(lista1))\n",
    "\n",
    "lista2=[25.,75,0, 8., 20.] \n",
    "print(\"lista2=\", lista2)\n",
    "print(type(lista2))\n",
    "print(type(lista2[0]))\n",
    "print(max(lista2))\n",
    "print(min(lista2))\n",
    "print(len(lista2))\n",
    "\n",
    "concatenada=lista1+lista2 #El signo + concatena listas, no es suma\n",
    "print(concatenada)\n",
    "print(type(concatenada))\n",
    "print(type(concatenada[0]))\n",
    "#No puede dar el máximo ni el mínimo porque los elementos son de distinto tipo: str y float\n",
    "\n",
    "print(lista2+lista2)\n",
    "lista2.extend(lista2)#Otro método de concatenación\n",
    "print(lista2)\n",
    "\n",
    "#print(lista2+2)#Esta operación daría error- Esta operación no es soportada por una lista\n",
    "# para trabajar con vectores debemos utilizar la librería numpy"
   ]
  },
  {
   "cell_type": "markdown",
   "metadata": {
    "colab_type": "text",
    "id": "xAfnVpiuvNEm"
   },
   "source": [
    "# 2. Funciones Definidas por el Usuario"
   ]
  },
  {
   "cell_type": "markdown",
   "metadata": {
    "colab_type": "text",
    "id": "FummoTjBvNEn"
   },
   "source": [
    "*Las funciones se definen con la palabra clave def*\n",
    "\n",
    "**Sintaxis**\n",
    "\n",
    "def nombre_funcion(parametros):\n",
    "    \n",
    "    Cuerpo de la función\n",
    "    \n",
    "    return\n"
   ]
  },
  {
   "cell_type": "markdown",
   "metadata": {
    "colab_type": "text",
    "id": "dw704ef4vNEo"
   },
   "source": [
    "**Ejemplo de una función**"
   ]
  },
  {
   "cell_type": "code",
   "execution_count": null,
   "metadata": {
    "colab": {},
    "colab_type": "code",
    "id": "NVXdyo_bvNEp"
   },
   "outputs": [],
   "source": [
    "def sumar(a,b):\n",
    "    return a+b\n",
    "#hay que ejecutar la celda para que la función quede ne memoria\n"
   ]
  },
  {
   "cell_type": "markdown",
   "metadata": {
    "colab_type": "text",
    "id": "8YjYwhQJvNEt"
   },
   "source": [
    "**Llamada a la función**"
   ]
  },
  {
   "cell_type": "code",
   "execution_count": null,
   "metadata": {
    "colab": {},
    "colab_type": "code",
    "id": "esWuUD_HvNEu"
   },
   "outputs": [],
   "source": [
    "c=sumar(2,5)\n",
    "print(\"La suma es\")\n",
    "print(c)\n"
   ]
  },
  {
   "cell_type": "markdown",
   "metadata": {
    "colab_type": "text",
    "id": "KpmoKAZvvNEz"
   },
   "source": [
    "**Otro Ejemplo de función**"
   ]
  },
  {
   "cell_type": "code",
   "execution_count": null,
   "metadata": {
    "colab": {},
    "colab_type": "code",
    "id": "_PhRV_QEvNE0"
   },
   "outputs": [],
   "source": [
    "#Definir y usar una función que dé el signo de un número\n",
    "def signo(x):\n",
    "    if x > 0:\n",
    "        return 'positivo'\n",
    "    elif x < 0:\n",
    "        return 'negativo'\n",
    "    else:\n",
    "        return 'cero'"
   ]
  },
  {
   "cell_type": "markdown",
   "metadata": {
    "colab_type": "text",
    "id": "pBCS7bATvNE5"
   },
   "source": [
    "**Llamada a la función**"
   ]
  },
  {
   "cell_type": "code",
   "execution_count": null,
   "metadata": {
    "colab": {},
    "colab_type": "code",
    "id": "Uaaw2hVMvNE6"
   },
   "outputs": [],
   "source": [
    "for x in [-1, 0, 1]:\n",
    "    print(signo(x))\n",
    "# Imprime en pantalla \"negativo\", \"cero\", \"positivo\""
   ]
  },
  {
   "cell_type": "markdown",
   "metadata": {
    "colab_type": "text",
    "id": "O-OgpPIjvNE_"
   },
   "source": [
    "**Ejercicio 6:**\n",
    "* defina una función sencilla con dos parámetros\n",
    "* impleméntela en dos valores concretos"
   ]
  },
  {
   "cell_type": "code",
   "execution_count": null,
   "metadata": {
    "colab": {},
    "colab_type": "code",
    "id": "Jzn_eikhvNFA"
   },
   "outputs": [],
   "source": []
  },
  {
   "cell_type": "markdown",
   "metadata": {
    "colab_type": "text",
    "id": "lm98E21gvNFF"
   },
   "source": [
    "# 3 Librerías\n",
    "**Qué es una librería?**\n",
    "** Librerías\n",
    "** En informática, una biblioteca o, llamada por vicio del lenguaje librería (del inglés library) es un **conjunto de** implementaciones **funciones**, codificadas en un lenguaje de programación, que realizan una serie de tareas específicas y se incluyen o importan en el programa evitando tener que reescribir esos códigos."
   ]
  },
  {
   "cell_type": "markdown",
   "metadata": {
    "colab_type": "text",
    "id": "U7D0HdZ6vNFH"
   },
   "source": [
    "## 3.1 Librería numpy"
   ]
  },
  {
   "cell_type": "markdown",
   "metadata": {
    "colab_type": "text",
    "id": "A4HfGXVyvNFJ"
   },
   "source": [
    "### Observaciones:\n",
    "Los tipos de datos predefinidos en Python no precisan el agregado de librerías\n",
    "Otros tipos de datos precisan la importación de librerías específicas. \n",
    "Una de las librerías más importantes para nosotros es numpy.\n",
    "\n",
    "* Librería **numpy**: sirve para realizar operaciones matriciales en Python. \n",
    "* La forma de \"llamar\", \"cargar\" o importar una libreria xxxxxx es la siguiente: \n",
    "* import xxxxxx as xx \n",
    "* donde xx es el nombre corto que le asignamos para poder llamar sus funciones, por ejemplo:\n"
   ]
  },
  {
   "cell_type": "code",
   "execution_count": null,
   "metadata": {
    "colab": {},
    "colab_type": "code",
    "id": "-BGqRa2zvNFL"
   },
   "outputs": [],
   "source": [
    "import numpy as np #shift+entr para ejecutar (o botón Run)\n",
    "#No es necesario asignarle un nombre corto, pero es útil"
   ]
  },
  {
   "cell_type": "markdown",
   "metadata": {
    "colab_type": "text",
    "id": "XVyQWL49vNFR"
   },
   "source": [
    "### Vectores :  1D-array\n",
    "Ejemplo:\n",
    "Diferenciar lista de vector.\n",
    "\n",
    "Sea el vector  $v = (25, 8, 20, 75)$ \n",
    "\n",
    "Mostrar el vector, su tipo, la longitud de v, máximo y mínimo valor de v\n"
   ]
  },
  {
   "cell_type": "code",
   "execution_count": null,
   "metadata": {
    "colab": {},
    "colab_type": "code",
    "id": "J9qXoCrUvNFR"
   },
   "outputs": [],
   "source": [
    "import numpy as np\n",
    "ve=[25., 8., 20., 75.] \n",
    "print(ve)\n",
    "print(type(ve))\n",
    "print()\n",
    "\n",
    "v=np.array(ve) #Transformo la lista en vector\n",
    "print(\"v=\", v) #El vector no lleva comas separando los elementos\n",
    "print(\"tipo de v:\", type(v)) #el tipo es numpy.ndarray\n",
    "print(\"longitud de v:\", len(v))\n",
    "\n",
    "# máximo y mínimo valor de v\n",
    "print(\"máximo de v:\", v.max(), \"o\",np.max(v)) #función de numpy.ndarray: np.max()\n",
    "\n",
    "print(\"mínimo de v:\", v.min())\n",
    "#También\n",
    "print(np.min(v))"
   ]
  },
  {
   "cell_type": "code",
   "execution_count": null,
   "metadata": {
    "colab": {},
    "colab_type": "code",
    "id": "epB-2cgbvNFY"
   },
   "outputs": [],
   "source": [
    "import numpy as np\n",
    "u=np.array([5, 9,  10, -1]) #Transforma la lista en vector\n",
    "\n",
    "v=np.array([-2, 0, 5, 4])\n",
    "\n",
    "print(\"vector u\", u)\n",
    "print(\"vector v\",v)\n",
    "\n",
    "z=u+v \n",
    "print(\"vector suma=\",z)\n",
    "\n",
    "w=2*z\n",
    "print(\"2*vector suma=\",w)\n",
    "\n",
    "t=w-3\n",
    "print(\"Restamos 3 a cada elemento del vector anterior\",t)\n"
   ]
  },
  {
   "cell_type": "markdown",
   "metadata": {
    "colab_type": "text",
    "id": "7kt3MnmzvNFf"
   },
   "source": [
    "**Ejercicio 7:**\n",
    "\n",
    "Defina el vector u=$[5, 9, 10, -1]$\n",
    "\n",
    "Defina el vector v=$[-2, 0, 5, 4]$\n",
    "\n",
    "Muestre ambos vectores\n",
    "\n",
    "Calcule y muestre z=u+v\n",
    "\n",
    "Calcule y muestre el vector doble del vector z\n",
    "\n",
    "Calcule y muestre el vector que resulta de restar 3 unidades a cada elemento del vector anterior"
   ]
  },
  {
   "cell_type": "code",
   "execution_count": null,
   "metadata": {
    "colab": {},
    "colab_type": "code",
    "id": "YfhbmA3FvNFg"
   },
   "outputs": [],
   "source": []
  },
  {
   "cell_type": "markdown",
   "metadata": {
    "colab_type": "text",
    "id": "9o02knVlvNFl"
   },
   "source": [
    "**Facilidades de numpy. Las explicaremos usando el alias np**\n",
    "\n",
    "Definir un vector de n ceros. Función np.zeros(n)\n",
    "\n",
    "Definir un vector de n unos. Función np.ones(n)\n",
    "\n",
    "Definir un vector de n elementos, todos iguales a uno dado m. Función np.full(n,m)\n",
    "\n",
    "Definir un vector que empiece con a, el paso sea c y no supere el b. Función np.arange(a,b,c)\n"
   ]
  },
  {
   "cell_type": "code",
   "execution_count": null,
   "metadata": {
    "colab": {},
    "colab_type": "code",
    "id": "BEtrHNrovNFm"
   },
   "outputs": [],
   "source": [
    "import numpy as np\n",
    "\n",
    "x=np.zeros(4)\n",
    "u=np.ones(4)\n",
    "t=np.full(4,7)\n",
    "print(\"x=\",x,\"u=\",u,\"t=\",t)\n",
    "print()\n"
   ]
  },
  {
   "cell_type": "markdown",
   "metadata": {
    "colab_type": "text",
    "id": "7MC-Hva9vNFr"
   },
   "source": [
    "**Tres casos de la función arange, según la cantidad de parámetros: 1, 2 o 3.**\n",
    "\n",
    "- con 1 parámetro: empieza en 0, paso=1\n",
    "- con 2 parámetros (inicio, final), supone paso=1\n",
    "- con 3 parámetros (inicio, final, paso), fija el paso.\n",
    "    * final no pertenece al conjunto\n"
   ]
  },
  {
   "cell_type": "code",
   "execution_count": null,
   "metadata": {
    "colab": {},
    "colab_type": "code",
    "id": "X24J_vdBvNFs"
   },
   "outputs": [],
   "source": [
    "s=np.arange(5,26,3)\n",
    "print(s,type(s),type(s[0]))"
   ]
  },
  {
   "cell_type": "markdown",
   "metadata": {
    "colab_type": "text",
    "id": "el1TNVhZvNFx"
   },
   "source": [
    "**Cambio del tipo de dato:**"
   ]
  },
  {
   "cell_type": "code",
   "execution_count": null,
   "metadata": {
    "colab": {},
    "colab_type": "code",
    "id": "AKE7jRZ7vNFy"
   },
   "outputs": [],
   "source": [
    "t=s.astype(np.float32)#cambiamos el tipo de datos al vector s a float32\n",
    "print(t,type(t), type(t[0]))\n"
   ]
  },
  {
   "cell_type": "markdown",
   "metadata": {
    "colab_type": "text",
    "id": "i4rcpkoXvNF2"
   },
   "source": [
    "**Acceso a algunos elementos del vector:*"
   ]
  },
  {
   "cell_type": "code",
   "execution_count": null,
   "metadata": {
    "colab": {},
    "colab_type": "code",
    "id": "7X_uLhb3vNF3"
   },
   "outputs": [],
   "source": [
    "print('Los 3 primeros elementos de t son:')\n",
    "r=t[0:3]#muestra 3 primeros elementos. Siempre el intervalo es abierto a derecha.\n",
    "print(r)\n",
    "\n",
    "print('Vector con los lugares pares de t:')\n",
    "p=t[[1,3,5]] #recordemos que el indexado empieza en 0, lugar 1 es el segundo\n",
    "print(p)"
   ]
  },
  {
   "cell_type": "markdown",
   "metadata": {
    "colab_type": "text",
    "id": "6SoEBNzlvNF-"
   },
   "source": [
    "\n",
    "**función linspace:  np.linspace(inicio, final, cantidad de puntos).** \n"
   ]
  },
  {
   "cell_type": "code",
   "execution_count": null,
   "metadata": {
    "colab": {},
    "colab_type": "code",
    "id": "No_jfq_fvNF_"
   },
   "outputs": [],
   "source": [
    "#Ejemplo: que empiece en 0 termine en 1 y tenga 5 valores. np.linspace(0,1,5)\n",
    "\n",
    "linea=np.linspace(0,1,5)\n",
    "print(linea)\n",
    "#print()\n"
   ]
  },
  {
   "cell_type": "markdown",
   "metadata": {
    "colab_type": "text",
    "id": "UvyOZrYfvNGC"
   },
   "source": [
    "\n",
    "**Arreglo numpy a partir de listas** \n",
    "* np.array\n",
    "* range vs np.arange \n"
   ]
  },
  {
   "cell_type": "code",
   "execution_count": null,
   "metadata": {
    "colab": {},
    "colab_type": "code",
    "id": "n6qAUSjuvNGD"
   },
   "outputs": [],
   "source": [
    "#Generar un vector. \n",
    "#Puede ser a partir de una lista con np.array(lista)\n",
    "#Así como range(n) genera lista, al que puedo convertir en vector con  np.(range(n))\n",
    "# np.arange(n) genera directamente el vector\n",
    "\n",
    "r=range(4) #Es lista\n",
    "print(\"Tipo con range(n): \",type(r))\n",
    "\n",
    "rr=np.array(r) #Genera vector a partir de lista con la librería numpy\n",
    "print(\"Convierto la lista con np.array(l): \")\n",
    "print(type(rr))\n",
    "\n",
    "print(\"Tipo con np.array(range(n))\")\n",
    "print(type(np.array(range(4))))\n",
    "#print()\n",
    "\n",
    "print(\"Tipo con np.arange(4)\")\n",
    "print(type(np.arange(4)))\n",
    "#print()\n",
    "\n",
    "print(\"Dos formas de generar el vector [0 1 2 3] np.array(range(4)) y np.arange(4)\")\n",
    "print(np.array(range(4)), \"es igual que\", np.arange(4))\n"
   ]
  },
  {
   "cell_type": "markdown",
   "metadata": {
    "colab_type": "text",
    "id": "vJIeAgpqvNGN"
   },
   "source": [
    "\n",
    "**Ejercicio 8**\n",
    "\n",
    "Defina y muestre un vector s que empiece en 2, su paso sea igual a 3 y no supere el 21\n",
    "\n",
    "Muestre el sexto y el último lugar de s\n",
    "\n",
    "Genere un vector r desde el segundo elemento al 5\n",
    "\n",
    "Muestre el vector de los cuadrados de cada elemento\n",
    "\n",
    "Muestre el vector de cada elemento del anterior elevado a un exponente igual a dicho elemento\n",
    "\n"
   ]
  },
  {
   "cell_type": "code",
   "execution_count": null,
   "metadata": {
    "colab": {},
    "colab_type": "code",
    "id": "_c0HYaVTvNGO"
   },
   "outputs": [],
   "source": []
  },
  {
   "cell_type": "code",
   "execution_count": null,
   "metadata": {
    "colab": {},
    "colab_type": "code",
    "id": "FGL-ifT-vNGV"
   },
   "outputs": [],
   "source": [
    "import numpy as np\n",
    "\n",
    "s=np.arange(2,21,3)\n",
    "\n",
    "print(s)\n",
    "\n",
    "print(\"El máximo es\")    \n",
    "print(max(s))\n",
    "print()\n",
    "\n",
    "print(\"elemento posición 6\")\n",
    "print(s[5])\n",
    "print()\n",
    "\n",
    "r=s[1:4]\n",
    "print(\"Vector recortado segundo a cuarto elemento\",r)\n",
    "print()\n",
    "\n",
    "print(\"El último elemento del vector recortado es\",r[len(r)-1] )\n",
    "print(\"El ultimo elemento del vector recortado es\", r[-1])\n",
    "print()\n",
    "\n",
    "print(\"Los cuadrados del vector recortado son:\", r*r)\n",
    "print()\n",
    "\n",
    "#Cambio el tipo de dato del vector recortado a float32\n",
    "t=r.astype(np.float32)\n"
   ]
  },
  {
   "cell_type": "markdown",
   "metadata": {
    "colab_type": "text",
    "id": "uxTHbeXivNGd"
   },
   "source": [
    "## 3.2 Librería matplotlib - Gráficos"
   ]
  },
  {
   "cell_type": "markdown",
   "metadata": {
    "colab_type": "text",
    "id": "vAMHVzv9vNGe"
   },
   "source": [
    "**Tabla Símbolo- Color\n",
    "\n",
    "“b”\tAzul\n",
    "\n",
    "“g”\tVerde\n",
    "\n",
    "“r”\tRojo\n",
    "\n",
    "“c”\tCian\n",
    "\n",
    "“m”\tMagenta\n",
    "\n",
    "“y”\tAmarillo\n",
    "\n",
    "“k”\tNegro\n",
    "\n",
    "“w”\tBlanco\n",
    "\n",
    "**Tabla Marcas y líneas\n",
    "\n",
    "**Símbolo-\tDescripción\n",
    "\n",
    "“-“\tLínea continua\n",
    "\n",
    "“–”\tLínea a trazos\n",
    "\n",
    "“-.”\tLínea a puntos y rayas\n",
    "\n",
    "“:”\tLínea punteada\n",
    "\n",
    "“.”\tSímbolo punto\n",
    "\n",
    "“,”\tSímbolo pixel\n",
    "\n",
    "“o”\tSímbolo círculo relleno\n",
    "\n",
    "“v”\tSímbolo triángulo hacia abajo\n",
    "\n",
    "“^”\tSímbolo triángulo hacia arriba\n",
    "\n",
    "“<”\tSímbolo triángulo hacia la izquierda\n",
    "\n",
    "“>”\tSímbolo triángulo hacia la derecha\n",
    "\n",
    "“s”\tSímbolo cuadrado\n",
    "\n",
    "“p”\tSímbolo pentágono\n",
    "\n",
    "“*”\tSímbolo estrella\n",
    "\n",
    "“+”\tSímbolo cruz\n",
    "\n",
    "“x”\tSímbolo X\n",
    "\n",
    "“D”\tSímbolo diamante\n",
    "\n",
    "“d”\tSímbolo diamante delgado"
   ]
  },
  {
   "cell_type": "code",
   "execution_count": null,
   "metadata": {
    "colab": {},
    "colab_type": "code",
    "id": "t4U8QBuXvNGf"
   },
   "outputs": [],
   "source": [
    "import matplotlib.pyplot as plt\n",
    "import numpy as np\n",
    "x=np.linspace(1,12,12)\n",
    "x2=x*x\n",
    "x3=x**3\n",
    "plt.plot(x, x,'b.', x, x2,'rd', x, x3,'g^')\n",
    "\n",
    "plt.show()\n"
   ]
  },
  {
   "cell_type": "code",
   "execution_count": null,
   "metadata": {
    "colab": {},
    "colab_type": "code",
    "id": "fCK9do0ZvNGl"
   },
   "outputs": [],
   "source": [
    "#Se puede cambiar el intervalo horizontal con xlim\n",
    "#Se puede cambiar el intervalo vertical con ylim\n",
    "\n",
    "x=np.linspace(0,10,10)\n",
    "x2=x*x\n",
    "x3=x**3\n",
    "plt.xlim(5,10)     # nuevos límites para el eje OX\n",
    "\n",
    "plt.plot(x, x,'b.',x, x2,'rd',x, x3,'g^')\n",
    "plt.gca().legend(('Lineal','Cuadrática','Cúbica'))\n",
    "\n",
    "plt.show()\n"
   ]
  },
  {
   "cell_type": "markdown",
   "metadata": {
    "colab_type": "text",
    "id": "9txecceSvNGp"
   },
   "source": [
    "**Ejercicio 9:**\n",
    "\n",
    "a) Defina el vector m=$(1,2,...,12)$\n",
    "\n",
    "b) Defina un vector g de longitud 12 que sean los consumos mensuales de gas de su vivienda\n",
    "\n",
    "c) Defina un vector l de longitud 12 que sean los consumos mensuales de luz de su vivienda\n",
    "\n",
    "d) calcule el vector de gastos mensuales por servicios, el máximo gasto mensual y el gasto de luz del segundo trimestre.\n",
    "\n",
    "e) Graficar los gastos de gas, luz y los de gastos por servicios según los meses (m, en el eje x) \n"
   ]
  },
  {
   "cell_type": "code",
   "execution_count": 3,
   "metadata": {
    "colab": {},
    "colab_type": "code",
    "id": "HkQAmKrTvNGq"
   },
   "outputs": [
    {
     "ename": "SyntaxError",
     "evalue": "invalid syntax (<ipython-input-3-82fb2c238896>, line 12)",
     "output_type": "error",
     "traceback": [
      "\u001b[1;36m  File \u001b[1;32m\"<ipython-input-3-82fb2c238896>\"\u001b[1;36m, line \u001b[1;32m12\u001b[0m\n\u001b[1;33m    plt.plot(t, g,'b.',t,  ,'rd',  ,  ,'g^')\u001b[0m\n\u001b[1;37m                           ^\u001b[0m\n\u001b[1;31mSyntaxError\u001b[0m\u001b[1;31m:\u001b[0m invalid syntax\n"
     ]
    }
   ],
   "source": [
    "#complete esta celda para realizar el ejercicio anterior\n",
    "\n",
    "m=\n",
    "g=\n",
    "l=\n",
    "s=\n",
    "print(np.max( ))\n",
    "print(l[])\n",
    "\n",
    "plt.xlim(5,10)     # nuevos límites para el eje x\n",
    "\n",
    "plt.plot(t, g,'b.',t,  ,'rd',  ,  ,'g^')\n",
    "plt.gca().legend(('gas','luz','servicios'))\n",
    "\n",
    "plt.show()"
   ]
  },
  {
   "cell_type": "code",
   "execution_count": 10,
   "metadata": {
    "colab": {},
    "colab_type": "code",
    "id": "HkQAmKrTvNGq"
   },
   "outputs": [
    {
     "data": {
      "image/png": "[encoded data removed]",
      "text/plain": [
       "<Figure size 432x288 with 1 Axes>"
      ]
     },
     "metadata": {
      "needs_background": "light"
     },
     "output_type": "display_data"
    }
   ],
   "source": [
    "#complete esta celda para realizar el ejercicio anterior\n",
    "import matplotlib.pyplot as plt\n",
    "import numpy as np\n",
    "\n",
    "m=np.linspace(1,12,12)\n",
    "g=np.linspace(1,12,12)+2\n",
    "l=np.linspace(1,12,12)\n",
    "s=g+l\n",
    "#print(np.max( ))\n",
    "#print(l[])\n",
    "\n",
    "#plt.xlim(5,10)     # nuevos límites para el eje x\n",
    "\n",
    "plt.plot(m, g,'b.',m, l ,'rd', m , s ,'g^')\n",
    "plt.gca().legend(('gas','luz','servicios'))\n",
    "\n",
    "plt.show()"
   ]
  },
  {
   "cell_type": "code",
   "execution_count": null,
   "metadata": {
    "colab": {},
    "colab_type": "code",
    "id": "3nwXw6DrvNGv"
   },
   "outputs": [],
   "source": [
    "import matplotlib.pyplot as plt\n",
    "# Gráficos múltiples\n",
    "\n",
    "plt.plot(m,g)\n",
    "plt.show()\n",
    "plt.plot(m,l,'g--d')# en color verde con guiones y punto diamante\n",
    "plt.show()\n",
    "plt.scatter(m,s)# puntos\n",
    "plt.show()\n"
   ]
  },
  {
   "cell_type": "markdown",
   "metadata": {},
   "source": [
    "### Subplots con matplotlib"
   ]
  },
  {
   "cell_type": "code",
   "execution_count": 13,
   "metadata": {
    "colab": {},
    "colab_type": "code",
    "id": "463Nz_5EvNGz"
   },
   "outputs": [
    {
     "data": {
      "image/png": "[encoded data removed]",
      "text/plain": [
       "<Figure size 720x432 with 4 Axes>"
      ]
     },
     "metadata": {
      "needs_background": "light"
     },
     "output_type": "display_data"
    }
   ],
   "source": [
    "import numpy as np\n",
    "import matplotlib.pyplot as plt\n",
    "\n",
    "#Para varios gráficos es útil usar la función subplots y luego axs\n",
    "fig, axs = plt.subplots(nrows=2, ncols=2, sharex=True)#Otra variable usada es f\n",
    "#f, axs = plt.subplots(2,2,figsize=(12,15))#ancho,altura\n",
    "fig.set_figwidth(10)\n",
    "fig.set_figheight(6)\n",
    "\n",
    "axs[0,0].plot(m,g)\n",
    "axs[0,0].set_title('gas')\n",
    "axs[0,0].set_xlabel('x')\n",
    "axs[0,0].set_ylabel('y')\n",
    "\n",
    "axs[0,1].plot(m,l)\n",
    "axs[0,1].set_title('luz')\n",
    "axs[0,1].set_xlabel('eje x: meses')\n",
    "axs[0,1].set_ylabel('eje y: luz')\n",
    "\n",
    "\n",
    "axs[1,0].plot(m,s)\n",
    "axs[1,0].set_title('vector suma')\n",
    "axs[1,0].set_xlabel('eje x')\n",
    "axs[1,0].set_ylabel('eje y')\n",
    "\n",
    "axs[1,1],plt.scatter(m,s)\n",
    "axs[1,1].set_title('vector suma')\n",
    "axs[1,1].set_xlabel('eje x')\n",
    "axs[1,1].set_ylabel('eje y')\n",
    "\n",
    "plt.show()"
   ]
  },
  {
   "cell_type": "code",
   "execution_count": 15,
   "metadata": {
    "colab": {},
    "colab_type": "code",
    "id": "WqO_V3aNvNG2"
   },
   "outputs": [
    {
     "name": "stdout",
     "output_type": "stream",
     "text": [
      "[ 2  6 10 14 18 22 26]\n"
     ]
    },
    {
     "data": {
      "image/png": "[encoded data removed]",
      "text/plain": [
       "<Figure size 720x216 with 2 Axes>"
      ]
     },
     "metadata": {
      "needs_background": "light"
     },
     "output_type": "display_data"
    }
   ],
   "source": [
    "import numpy as np\n",
    "import matplotlib.pyplot as plt\n",
    "\n",
    "v=range(2,27,4)\n",
    "v=np.array(v)\n",
    "print(v)\n",
    "w=np.linspace(0.0,1.0,256)\n",
    "\n",
    "fig, axs = plt.subplots(nrows=1, ncols=2, sharex=True)\n",
    "fig.set_figwidth(10)\n",
    "fig.set_figheight(3)\n",
    "\n",
    "axs[0].scatter(range(7),v) #En el eje horizontal es range(7) porque tiene que coincidir la cantidad \n",
    "#de elementos\n",
    "axs[1].plot(w)\n",
    "plt.show()#Observar valores ejes horizontal y vertical\n"
   ]
  },
  {
   "cell_type": "code",
   "execution_count": null,
   "metadata": {
    "colab": {},
    "colab_type": "code",
    "id": "oacH-grhvNG6"
   },
   "outputs": [],
   "source": [
    "#Otra forma de mostrar múltiples gráficos\n",
    "\n",
    "import matplotlib.pyplot as plt\n",
    "import numpy as np\n",
    "\n",
    "x = np.linspace(0,4,1000)\n",
    "\n",
    "f = plt.figure(figsize=(10,3))\n",
    "\n",
    "ax = f.add_subplot(121)\n",
    "ax2 = f.add_subplot(122)\n",
    "\n",
    "ax.plot(x, np.sin(x))\n",
    "ax2.plot(x, np.cos(x), 'r:')\n",
    "\n",
    "plt.show()"
   ]
  },
  {
   "cell_type": "markdown",
   "metadata": {
    "colab_type": "text",
    "id": "lxcnZjk0vNG_"
   },
   "source": [
    "### Arrays-Arreglos multidimensionales\n",
    "**Consideraremos primero bidimensionales-Matrices**"
   ]
  },
  {
   "cell_type": "code",
   "execution_count": null,
   "metadata": {
    "colab": {},
    "colab_type": "code",
    "id": "4rBTuhpJvNHA"
   },
   "outputs": [],
   "source": [
    "import numpy as np\n",
    "\n",
    "a = np.zeros((2,2))   # Bidimensional 2x2\n",
    "print(a)              # Muestra \"[[ 0.  0.]\n",
    "                      #          [ 0.  0.]]\"\n",
    "\n",
    "b = np.ones((1,2))    # Bidimensional: 1x2\n",
    "print(b)              # Muestra \"[[ 1.  1.]]\"\n",
    "\n",
    "c = np.full((2,2), 7)  # Un array de elementos iguales\n",
    "print(c)               # Muestra \"[[ 7.  7.]\n",
    "                       #          [ 7.  7.]]\"\n",
    "\n",
    "d = np.eye(2)         # Crea la matriz identidad 2x2\n",
    "print(d)              # Muestra \"[[ 1.  0.]\n",
    "                      #          [ 0.  1.]]\"\n",
    "\n",
    "e = np.random.random((2,2))  # Crea un array 2x2 de elementos aleatorios\n",
    "print(e)                     # por ejemplo \"[[ 0.91940167  0.08143941]\n",
    "                             #               [ 0.68744134  0.87236687]]\"\n",
    "\n",
    "# La función np.random.* tiene variantes (*)\n",
    "# numpy.random.random(size)¶\n",
    "# Return random floats in the half-open interval [0.0, 1.0).\n",
    "\n",
    "print(np.random.randint(5,size=(5, 5)))\n"
   ]
  },
  {
   "cell_type": "code",
   "execution_count": null,
   "metadata": {
    "colab": {},
    "colab_type": "code",
    "id": "7ts8ETnTvNHD"
   },
   "outputs": [],
   "source": [
    "import numpy as np\n",
    "\n",
    "# Crear un array 3x4 con los siguientes números\n",
    "# [[ 1  2  3  4]\n",
    "#  [ 5  6  7  8]\n",
    "#  [ 9 10 11 12]]\n",
    "\n",
    "a = np.array([[1,2,3,4], [5,6,7,8], [9,10,11,12]])\n",
    "\n",
    "print(\"La dimensión de la matriz es \",a.shape) # Da la dimensión de a\n",
    "print(\"La cantidad de elementos de la matriz es\",a.size)# Da la cantidad de elementos de a\n",
    "print()\n",
    "# Extraer el subarray que contenga las primeras dos filas y las columnas 2 y 3\n",
    "\n",
    "# [[2 3]\n",
    "#  [6 7]]\n",
    "b = a[:2, 1:3] #siempre los intervalos son abiertos a derecha\n",
    "print(a)\n",
    "print()\n",
    "print(b)\n",
    "print()\n",
    "# Mostrar un dato del array original, primera fila, segunda columna\n",
    "\n",
    "print(a[0, 1])   # Muestra \"2\"\n",
    "\n",
    "b[0, 0] = 77     # b[0, 0] Ojo! este b modifica también el dato correspondiente en a!\n",
    "print(a[0, 1])   # Muestra \"77\"\n",
    "print()\n",
    "print(b)\n",
    "print()\n",
    "\n",
    "#Siempre que obtenemos una submatriz de otra mediante asignación con =\n",
    "#Si modificamos un dato en una modificamos en la otra.\n",
    "a[0,1]=25\n",
    "print(a)\n",
    "print(b)\n",
    "\n",
    "#Para no modificar ambas listas se usa el comando copy.\n",
    "vector_viejo=np.array([1, 0, 5])\n",
    "vector_nuevo=np.copy(vector_viejo)\n",
    "vector_nuevo[1]=9\n",
    "print(vector_viejo)\n",
    "print(vector_nuevo)"
   ]
  },
  {
   "cell_type": "code",
   "execution_count": null,
   "metadata": {
    "colab": {},
    "colab_type": "code",
    "id": "gHCXR_IovNHH"
   },
   "outputs": [],
   "source": [
    "import numpy as np\n",
    "\n",
    "# Crear matriz 2-dimensiones (3,4) , 3 filas y 4 columnas\n",
    "# [[ 1  2  3  4]\n",
    "#  [ 5  6  7  8]\n",
    "#  [ 9 10 11 12]]\n",
    "\n",
    "a = np.array([[1,2,3,4], [5,6,7,8], [9,10,11,12]]) #Ingreso como lista y transforma con np.array(l)\n",
    "print(a)\n",
    "print()\n",
    "\n",
    "row_r1 = a[1, :]    # Segunda fila. Todas las columnas\n",
    "row_r2 = a[1:2, :]  # Segunda fila. Todas las columnas\n",
    "\n",
    "\n",
    "print(row_r1, row_r1.shape)  # Muestra \"5 6 7 8] (4,)\"\n",
    "print()\n",
    "print(row_r2, row_r2.shape)  # Muestra \"[[5 6 7 8]] (1, 4)\"\n",
    "print()\n",
    "\n",
    "# Ejemplo de acceso a las columnas\n",
    "col_r1 = a[:, 1]\n",
    "col_r2 = a[:, 1:2]\n",
    "print(col_r1, col_r1.shape)  # Muestra \"[ 2  6 10] (3,)\"\n",
    "print(col_r2, col_r2.shape)  # Muestra \"[[ 2]\n",
    "                             #          [ 6]\n",
    "                             #          [10]] (3, 1)\"\n",
    "#Cuál es la diferencia?\n",
    "\n",
    "#Para mostrar un elemento\n",
    "print(a[1,3])\n",
    "\n",
    "#Concatenado de matrices\n",
    "#help (np.concatenate)\n",
    "DobleAhorizontal=np.concatenate((a,a),axis=1)\n",
    "print(\"Primer caso de concatenado, axis=1\\n\",DobleAhorizontal)\n",
    "\n",
    "DobleAvertical=np.concatenate((a,a),axis=0)\n",
    "print(\"\\nSegundo caso de Concatenado, axis=0\\n\",DobleAvertical)"
   ]
  },
  {
   "cell_type": "code",
   "execution_count": null,
   "metadata": {
    "colab": {},
    "colab_type": "code",
    "id": "FfkZaCaqvNHK"
   },
   "outputs": [],
   "source": [
    "import numpy as np\n",
    "\n",
    "#Detectar los elementos que cumplen una condición en un array\n",
    "\n",
    "a = np.array([[1,2], [3, 4], [5, 6]])\n",
    "\n",
    "bool_idx = (a > 2)   # Encuentra los elementos mayores que 2\n",
    "                     # Devuelve una matriz de la misma dimensión que a con valores booleanos\n",
    "                     \n",
    "print(bool_idx)      # Muestra \"[[False False]\n",
    "                     #          [ True  True]\n",
    "                     #          [ True  True]]\"\n",
    "\n",
    "\n",
    "\n",
    "print(a[bool_idx])  # muestra \"[3 4 5 6]\"\n",
    "\n",
    "#Se puede lograr en una sola sentencia\n",
    "print(a[a > 2])     # Muestra \"[3 4 5 6]\""
   ]
  },
  {
   "cell_type": "code",
   "execution_count": null,
   "metadata": {
    "colab": {},
    "colab_type": "code",
    "id": "lRNXP0JqvNHO"
   },
   "outputs": [],
   "source": [
    "import numpy as np\n",
    "\n",
    "x = np.array([1, 2])   # numpy elige el tipo de dato\n",
    "print(x.dtype)         # En este caso \"int64\"\n",
    "\n",
    "x = np.array([1.0, 2.0])   # numpy elige el tipo de dato\n",
    "print(x.dtype)             # en este caso \"float64\"\n",
    "\n",
    "x = np.array([1, 2], dtype=np.int64)   # fuerza el tipo de dato a int64\n",
    "print(x.dtype)                         # muestra \"int64\""
   ]
  },
  {
   "cell_type": "code",
   "execution_count": null,
   "metadata": {
    "colab": {},
    "colab_type": "code",
    "id": "pNszL-YRvNHR"
   },
   "outputs": [],
   "source": [
    "#Operaciones con matrices en python\n",
    "import numpy as np\n",
    "\n",
    "x = np.array([[1,2],[3,4]], dtype=np.float64)\n",
    "y = np.array([[5,6],[7,8]], dtype=np.float64)\n",
    "\n",
    "# Suma elemento a elemento\n",
    "# [[ 6.0  8.0]\n",
    "#  [10.0 12.0]]\n",
    "\n",
    "print(x + y)\n",
    "print(np.add(x, y))\n",
    "print()\n",
    "\n",
    "# Diferencia elemento a elemento\n",
    "# [[-4.0 -4.0]\n",
    "#  [-4.0 -4.0]]\n",
    "\n",
    "print(x - y)\n",
    "print(np.subtract(x, y))\n",
    "print()\n",
    "\n",
    "# Producto elemento a elemento\n",
    "# [[ 5.0 12.0]\n",
    "#  [21.0 32.0]]\n",
    "print(x * y)\n",
    "print(np.multiply(x, y))\n",
    "print()\n",
    "\n",
    "# División elemento a elemento\n",
    "# [[ 0.2         0.33333333]\n",
    "#  [ 0.42857143  0.5       ]]\n",
    "print(x / y)\n",
    "print(np.divide(x, y))\n",
    "print()\n",
    "\n",
    "# Raíz cuadrada, elemento a elemento\n",
    "# [[ 1.          1.41421356]\n",
    "#  [ 1.73205081  2.        ]]\n",
    "print(np.sqrt(x))\n"
   ]
  },
  {
   "cell_type": "code",
   "execution_count": null,
   "metadata": {
    "colab": {},
    "colab_type": "code",
    "id": "UBdb4JjnvNHU"
   },
   "outputs": [],
   "source": [
    "import numpy as np\n",
    "\n",
    "x = np.array([[1,2],[3,4]])\n",
    "y = np.array([[5,6],[7,8]])\n",
    "\n",
    "v = np.array([9,10])\n",
    "w = np.array([11, 12])\n",
    "\n",
    "# Producto interno de vectores \n",
    "print(v.dot(w))\n",
    "print(np.dot(v, w))\n",
    "print(v@w)\n",
    "\n",
    "# Producto interno de vectores\n",
    "print(x.dot(v))\n",
    "print(np.dot(x, v))\n",
    "\n",
    "# Producto interno de vectores\n",
    "print(x.dot(y))\n",
    "print(np.dot(x, y))\n",
    "\n",
    "v1 = np.array([3, 4])\n",
    "v2 = np.array([4, -3])\n",
    "print(v1 @ v2) #Qué indica el resultado?"
   ]
  },
  {
   "cell_type": "code",
   "execution_count": null,
   "metadata": {
    "colab": {},
    "colab_type": "code",
    "id": "LR4Q3YMIvNHY"
   },
   "outputs": [],
   "source": [
    "import numpy as np\n",
    "\n",
    "x = np.array([[1,2],[3,4]])\n",
    "\n",
    "print(np.sum(x))  # Suma todos los elementos \"10\"\n",
    "print(np.sum(x, axis=0))  # Suma los elementos de las columnas; \"[4 6]\"\n",
    "print(np.sum(x, axis=1))  # Suma los elementos por fila \"[3 7]\""
   ]
  },
  {
   "cell_type": "code",
   "execution_count": null,
   "metadata": {
    "colab": {},
    "colab_type": "code",
    "id": "Ka5ZSMN6vNHb"
   },
   "outputs": [],
   "source": [
    "import numpy as np\n",
    "\n",
    "x = np.array([[1,2], [3,4]])\n",
    "print(x)  \n",
    "#Transpuesta\n",
    "print(x.T)  # \"[[1 3]\n",
    "            #  [2 4]]\"\n",
    "# o bien\n",
    "print(np.transpose(x))\n",
    "print()\n",
    "\n",
    "# Pedir la transpuesta de un array de una dimensión no hace nada\n",
    "v = np.array([1,2,3])\n",
    "print(v)    # \"[1 2 3]\"\n",
    "print(v.T)  # \"[1 2 3]\""
   ]
  },
  {
   "cell_type": "code",
   "execution_count": 18,
   "metadata": {
    "colab": {},
    "colab_type": "code",
    "id": "w5qRCkiCvNHh"
   },
   "outputs": [
    {
     "name": "stdout",
     "output_type": "stream",
     "text": [
      "[[1 2]\n",
      " [3 4]]\n",
      "[[1 2 1]\n",
      " [3 4 2]]\n",
      "\n",
      "[[ 7 10  5]\n",
      " [15 22 11]]\n"
     ]
    },
    {
     "ename": "ValueError",
     "evalue": "matmul: Input operand 1 has a mismatch in its core dimension 0, with gufunc signature (n?,k),(k,m?)->(n?,m?) (size 2 is different from 3)",
     "output_type": "error",
     "traceback": [
      "\u001b[1;31m---------------------------------------------------------------------------\u001b[0m",
      "\u001b[1;31mValueError\u001b[0m                                Traceback (most recent call last)",
      "\u001b[1;32m<ipython-input-18-d8c04807a120>\u001b[0m in \u001b[0;36m<module>\u001b[1;34m\u001b[0m\n\u001b[0;32m     11\u001b[0m \u001b[0mprint\u001b[0m\u001b[1;33m(\u001b[0m\u001b[0mv\u001b[0m\u001b[1;33m)\u001b[0m\u001b[1;33m\u001b[0m\u001b[1;33m\u001b[0m\u001b[0m\n\u001b[0;32m     12\u001b[0m \u001b[1;31m#Si hacemos\u001b[0m\u001b[1;33m\u001b[0m\u001b[1;33m\u001b[0m\u001b[1;33m\u001b[0m\u001b[0m\n\u001b[1;32m---> 13\u001b[1;33m \u001b[0mw\u001b[0m\u001b[1;33m=\u001b[0m\u001b[0my\u001b[0m\u001b[1;33m@\u001b[0m\u001b[0mx\u001b[0m\u001b[1;33m\u001b[0m\u001b[1;33m\u001b[0m\u001b[0m\n\u001b[0m\u001b[0;32m     14\u001b[0m \u001b[1;31m#print(w)\u001b[0m\u001b[1;33m\u001b[0m\u001b[1;33m\u001b[0m\u001b[1;33m\u001b[0m\u001b[0m\n\u001b[0;32m     15\u001b[0m \u001b[1;31m#nos da error y nos explica la causa\u001b[0m\u001b[1;33m\u001b[0m\u001b[1;33m\u001b[0m\u001b[1;33m\u001b[0m\u001b[0m\n",
      "\u001b[1;31mValueError\u001b[0m: matmul: Input operand 1 has a mismatch in its core dimension 0, with gufunc signature (n?,k),(k,m?)->(n?,m?) (size 2 is different from 3)"
     ]
    }
   ],
   "source": [
    "import numpy as np\n",
    "#Producto de matrices\n",
    "\n",
    "x = np.array([[1,2], [3,4]])\n",
    "print(x)  \n",
    "y= np.array(([[1,2,1], [3,4,2]]))\n",
    "print(y)\n",
    "print()\n",
    "\n",
    "v = x@y\n",
    "print(v)  \n",
    "#Si hacemos\n",
    "#w=y@x\n",
    "#print(w)\n",
    "#nos da error y nos explica la causa"
   ]
  },
  {
   "cell_type": "code",
   "execution_count": null,
   "metadata": {
    "colab": {},
    "colab_type": "code",
    "id": "zcJn1H4UvNHk"
   },
   "outputs": [],
   "source": [
    "import numpy as np\n",
    "#Calculo el determinante\n",
    "A = np.array([[4, 7],\n",
    "              [2, 6]])\n",
    "print(np.linalg.det(A))\n",
    "print()\n",
    "print(np.linalg.inv(A))\n",
    "print()\n",
    "print(np.transpose(A))"
   ]
  },
  {
   "cell_type": "code",
   "execution_count": null,
   "metadata": {
    "colab": {},
    "colab_type": "code",
    "id": "R0kd4sPJvNHn"
   },
   "outputs": [],
   "source": [
    "#https://docs.scipy.org/doc/numpy/reference/"
   ]
  },
  {
   "cell_type": "markdown",
   "metadata": {
    "colab_type": "text",
    "id": "glI5WEJhvNHq"
   },
   "source": [
    "### Otros ejemplos con arrays\n",
    "Generar lista A de dimensión 5x4.\n",
    "\n",
    "Convertirla en array y mostrarla.\n",
    "\n",
    "Encontrar, guardar en variable y mostrar el máximo.\n",
    "\n",
    "Generar y mostrar la transpuesta y su dimensión."
   ]
  },
  {
   "cell_type": "code",
   "execution_count": 21,
   "metadata": {
    "colab": {},
    "colab_type": "code",
    "id": "6G_O3DvbvNHr"
   },
   "outputs": [
    {
     "name": "stdout",
     "output_type": "stream",
     "text": [
      "Lista A: [[1, 2, 3, 4], [9, 10, 11, 12], [5, 6, 7, 8], [1, 1, 2, 2], [2, 3, 3, 4]]\n",
      "tipo:  <class 'list'> largo:  5\n",
      "\n",
      "Matriz Amat a partir de la lista A,\n",
      " Matriz A= [[ 1  2  3  4]\n",
      " [ 9 10 11 12]\n",
      " [ 5  6  7  8]\n",
      " [ 1  1  2  2]\n",
      " [ 2  3  3  4]] \n",
      " Dimensión de la matriz A: (5, 4)\n",
      "<class 'numpy.ndarray'> tamaño: 20 forma: (5, 4)\n",
      "máximo de matriz 12\n",
      "\n",
      "traspuesta de la matriz A=\n",
      "[[ 1  9  5  1  2]\n",
      " [ 2 10  6  1  3]\n",
      " [ 3 11  7  2  3]\n",
      " [ 4 12  8  2  4]]\n",
      "La dimensión de la transpuesta es (4, 5)\n",
      "\n"
     ]
    }
   ],
   "source": [
    "import numpy as np\n",
    "A=[[1, 2, 3, 4], [9, 10, 11, 12],[5, 6, 7, 8],[1,1,2,2],[2,3,3,4]] # Generamos lista\n",
    "print(\"Lista A:\", A)\n",
    "print(\"tipo: \",type(A), \"largo: \",len(A))\n",
    "print()\n",
    "\n",
    "Amat=np.array(A)\n",
    "print(\"Matriz Amat a partir de la lista A,\\n Matriz A=\", Amat, \"\\n Dimensión de la matriz A:\", Amat.shape)\n",
    "print(type(Amat), \"tamaño:\", Amat.size, \"forma:\", Amat.shape)\n",
    "m=Amat.max()\n",
    "print(\"máximo de matriz\",m)\n",
    "print()\n",
    "\n",
    "At=np.transpose(Amat) #transpuesta de la matriz\n",
    "print(\"traspuesta de la matriz A=\")\n",
    "print(At)\n",
    "print(\"La dimensión de la transpuesta es\",At.shape)\n",
    "print()"
   ]
  },
  {
   "cell_type": "markdown",
   "metadata": {
    "colab_type": "text",
    "id": "glI5WEJhvNHq"
   },
   "source": [
    "### Más ejemplos\n",
    "\n",
    "Generar una lista B de 12 elementos, 11 numéricos y el último string. Mostrar el tipo.\n",
    "\n",
    "Generar una lista C con los 11 primeros elementos de la anterior. Mostrar el tipo.\n",
    "\n",
    "Generar un vector D con los elementos: 0 1 2 3 4 5 6 7 8 9 10. Utilizar la función de numpy arange().\n",
    "\n",
    "Convertir en vector la lista C. Mostrar tipo."
   ]
  },
  {
   "cell_type": "code",
   "execution_count": 27,
   "metadata": {
    "colab": {},
    "colab_type": "code",
    "id": "JtG3J6S1vNHx"
   },
   "outputs": [
    {
     "name": "stdout",
     "output_type": "stream",
     "text": [
      "Lista B [1, 2, 3, 4, 5, 6, 7, 8, 9, 10, 11, 'hola']\n",
      "<class 'list'>\n",
      "\n",
      "Tomo C como los primeros 11 elementos de la lista B  [1, 2, 3, 4, 5, 6, 7, 8, 9, 10, 11]\n",
      "<class 'list'>\n",
      "\n",
      "Vector np.arange(11) es [ 0  1  2  3  4  5  6  7  8  9 10]\n",
      "<class 'numpy.ndarray'>\n",
      "\n",
      "Lista C convertida en vector [ 1  2  3  4  5  6  7  8  9 10 11]\n",
      "<class 'numpy.ndarray'>\n",
      "<class 'numpy.int32'>\n",
      "int32\n",
      "\n"
     ]
    }
   ],
   "source": [
    "B=[1, 2, 3, 4, 5, 6, 7, 8, 9, 10, 11, \"hola\"]\n",
    "print(\"Lista B\",B) #La lista puede tener elementos de distinto tipo\n",
    "print(type(B))\n",
    "print()\n",
    "\n",
    "C=B[0:11]\n",
    "print(\"Tomo C como los primeros 11 elementos de la lista B \",C)\n",
    "print(type(C))\n",
    "print()\n",
    "\n",
    "D=np.arange(11)\n",
    "print(\"Vector np.arange(11) es\",D) #con np.arange() generamos vectores\n",
    "print(type(D))\n",
    "print()\n",
    "\n",
    "E=np.array(C)\n",
    "print(\"Lista C convertida en vector\", E)\n",
    "print(type(E))\n",
    "print(type(E[0]))\n",
    "print(E.dtype)\n",
    "print()"
   ]
  },
  {
   "cell_type": "markdown",
   "metadata": {
    "colab_type": "text",
    "id": "IfGy34E4vNH0"
   },
   "source": [
    "Dada la matriz A, del ejericio anterior u otra:\n",
    "\n",
    "Tomar el elemento de la fila 3 columna 2.\n",
    "\n",
    "Asignarle un nuevo valor."
   ]
  },
  {
   "cell_type": "code",
   "execution_count": null,
   "metadata": {
    "colab": {},
    "colab_type": "code",
    "id": "bu3bI8kCvNH1"
   },
   "outputs": [],
   "source": [
    "#Elemento de una matriz\n",
    "print(Amat)\n",
    "print(\"valor de la matriz Amat en el lugar [2,1] es \", Amat[2,1]) #fila 2(3ra) columna 1 (2da)\n",
    "print()\n",
    "#cambiar un valor de A\n",
    "Amat[2][1]=15\n",
    "print(Amat)\n",
    "print(\"el nuevo valor de la matriz Amat en el lugar [2,1] es \", Amat[2,1]) #fila 2(3ra) columna 1 (2da)\n"
   ]
  },
  {
   "cell_type": "markdown",
   "metadata": {
    "colab_type": "text",
    "id": "IfGy34E4vNH0"
   },
   "source": [
    "Generar una matriz con las dos primeras filas de la anterior utilizando el comando range, o corchetes.\n",
    "\n",
    "Generar distintas submatrices."
   ]
  },
  {
   "cell_type": "code",
   "execution_count": null,
   "metadata": {
    "colab": {},
    "colab_type": "code",
    "id": "TUSKhayRvNH4"
   },
   "outputs": [],
   "source": [
    "# Submatriz \n",
    "print(\"\\n Submatriz formada por las dos primeras filas separadas con A[range(0,2)]=\")\n",
    "print(Amat[range(0,2)]) \n",
    "print()\n",
    "\n",
    "print(\"\\nSubmatriz dos primeras filas separadas con A[0:2]=\")\n",
    "print(Amat[0:2],\"\\n\") #desde fila 0 (inclusive) hasta fila 2 exclusive\n",
    "\n",
    "print(\"\\nSubmatriz primera fila obtenida con A[0:1]=\",Amat[0:1],\"\\n\")\n",
    "\n",
    "print(\"\\nSubmatriz primera fila obtenida con A[0]=\",Amat[0],\"\\n\")\n",
    "\n",
    "print(\"\\nSubmatriz formada por las 3 primeras filas y las dos primeras columnas Amat[0:3,0:2]\")\n",
    "print(Amat[0:3,0:2],\"\\n\")#desde fila y col 0 (inclusive) hasta fila 3 y col 2 exclusive\n",
    "\n",
    "print(\"Submatriz formada por las Filas segunda y tercera, columnnas segunda y tercera Amat[1:3,1:3]\")\n",
    "print(Amat[1:3,1:3],\"\\n\") #desde fila y col 1 (inclusive) hasta fila y col 3 exclusive\n",
    "\n",
    "print(\"\\n atributo y función size de un arreglo con numpy, dos formas de obtenerlo M.size o np.size(M):\",\n",
    "      Amat.size,  np.size(Amat) )"
   ]
  },
  {
   "cell_type": "code",
   "execution_count": null,
   "metadata": {
    "colab": {},
    "colab_type": "code",
    "id": "TaFYsgU_vNH7"
   },
   "outputs": [],
   "source": [
    "#Operaciones matriciales- Revisión\n",
    "print(np.shape(Amat),np.shape(At))\n",
    "print(\"Matriz=\\n'\",type(Amat))\n",
    "print(Amat)\n",
    "print()\n",
    "print(\"Transpuesta\\n\",type(At))\n",
    "print(At)\n",
    "print()\n",
    "print(\"Producto matriz por su traspuesta\")\n",
    "print(np.dot(Amat,At))  #\n",
    "print()\n",
    "      \n",
    "#Producto lugar a lugar/ punto a punto de arreglos numpy\n",
    "print(\"Producto matriz punto a punto por sí misma\")\n",
    "print(Amat*Amat) \n",
    "print()\n",
    "#Otra forma\n",
    "print(np.multiply(Amat,Amat)) #Producto punto a punto\n",
    "\n",
    "print()\n",
    "print(\"División punto a punto de la matriz por sí misma\")\n",
    "print(Amat/Amat)    #División punto a punto . Cuidado con la división por ceros!!!\n",
    "\n",
    "print()\n",
    "print(\"División de los elementos por 2\")\n",
    "print(Amat/2) #División punto a punto\n",
    "\n",
    "print()\n",
    "print(\"Sumo la matriz a sí misma\")\n",
    "print(Amat+Amat)     #Suma (lugar a lugar)\n",
    "\n",
    "print()\n",
    "print(\"Concateno lista\")\n",
    "print(A+A)     #Ojo!! concatenación de listas ya que A es lista\n",
    "\n",
    "print()\n",
    "print(\"Convierto la concatenación en arreglo\")\n",
    "print(np.array(A+A)) #concatenación de listas en arreglos!\n",
    "\n",
    "print()\n",
    "print(\"Sumo 3 punto a punto a la matriz original\")\n",
    "print(Amat+3) #Suma (lugar a lugar)\n",
    "\n",
    "print()\n",
    "print(\"Multiplico por 2 todos los elementos de la matriz original\")\n",
    "print(2*Amat) #Producto por escalar (lugar a lugar)"
   ]
  },
  {
   "cell_type": "markdown",
   "metadata": {
    "colab_type": "text",
    "id": "GV2cWZJrvNIA"
   },
   "source": [
    "### Algunas funciones numpy para arreglos - Alias np\n",
    "\n",
    "np.sum();  np.mean();  np.median(); np.max(); np.min(); np.std(); np.array(); np.arange()\n",
    "\n",
    "np.float32(); np.int32(); np.concatenate(); np.unique() #quita los elementos repetidos\n",
    "\n",
    "np.round()\n",
    "\n"
   ]
  },
  {
   "cell_type": "code",
   "execution_count": null,
   "metadata": {
    "colab": {},
    "colab_type": "code",
    "id": "fOqF0oR8vNIB"
   },
   "outputs": [],
   "source": []
  },
  {
   "cell_type": "markdown",
   "metadata": {
    "colab_type": "text",
    "id": "KSZWx0YrvNIE"
   },
   "source": [
    "**Ejercicio**\n",
    "\n",
    "Defina una matriz de unos de dimensión 3x2.\n",
    "\n",
    "Multiplique la primera fila por 3.\n",
    "\n",
    "Multiplique la última fila por 2.\n",
    "\n",
    "Muestre la matriz obtenida y su traspuesta."
   ]
  },
  {
   "cell_type": "code",
   "execution_count": null,
   "metadata": {
    "colab": {},
    "colab_type": "code",
    "id": "UaXR6aB4vNIE"
   },
   "outputs": [],
   "source": [
    "import numpy as np\n",
    "A=np.ones((3,2))\n",
    "print(A)\n",
    "print()\n",
    "A[0:1]=3*A[0:1]\n",
    "A[2:]=2*A[2:]\n",
    "print(A)\n"
   ]
  },
  {
   "cell_type": "code",
   "execution_count": null,
   "metadata": {
    "colab": {},
    "colab_type": "code",
    "id": "I9UdQRDCvNIK"
   },
   "outputs": [],
   "source": []
  },
  {
   "cell_type": "markdown",
   "metadata": {
    "colab_type": "text",
    "id": "bnL2J27GvNIN"
   },
   "source": [
    "# 4. Programación/estructuras (if, for, while, etc)\n",
    "## 4.1 Estructura de Decisión: if"
   ]
  },
  {
   "cell_type": "markdown",
   "metadata": {
    "colab_type": "text",
    "id": "_qfezEztvNIO"
   },
   "source": [
    "Su sintaxis es\n",
    "\n",
    "if *condicion* : \n",
    "\n",
    "    cuerpo del if #indentado con 4 espacios\n",
    "    \n",
    "else:\n",
    "    \n",
    "    cuerpo del else #indentado con 4 espacios\n",
    "    \n",
    "\n",
    "--------------------------------------------------------------------------------------------------\n",
    "donde *condicion* tiene que ser un booleano, que si es True se realiza lo que está en el cuerpo del if, si es False, lo que está en el cuerpo de else  \n"
   ]
  },
  {
   "cell_type": "code",
   "execution_count": null,
   "metadata": {
    "colab": {},
    "colab_type": "code",
    "id": "TvLBhQL6vNIO"
   },
   "outputs": [],
   "source": [
    "#Ejemplo\n",
    "edad = 25\n",
    "\n",
    "print(\"La persona es\")\n",
    "if edad < 18:\n",
    "    print(\"Menor\") \n",
    "else:\n",
    "    print(\"Mayor\")\n"
   ]
  },
  {
   "cell_type": "markdown",
   "metadata": {
    "colab_type": "text",
    "id": "Thz5NzNtvNIR"
   },
   "source": [
    "**Los ifs se pueden anidar**\n",
    "\n",
    "**Los ifs pueden servir a distintas alternativas**\n",
    "\n",
    "**Ejemplo de pseudocódigo con 4 alternativas**\n",
    "\n",
    "\n",
    "if condición_1:\n",
    "\n",
    "    bloque 1\n",
    "\n",
    "elif condición_2:\n",
    "    \n",
    "    bloque 2\n",
    "\n",
    "elif condición_3\n",
    "\n",
    "    bloque 3\n",
    "\n",
    "else:\n",
    "    \n",
    "    bloque 4"
   ]
  },
  {
   "cell_type": "code",
   "execution_count": null,
   "metadata": {
    "colab": {},
    "colab_type": "code",
    "id": "5Rkmi9tQvNIS"
   },
   "outputs": [],
   "source": [
    "#Ejemplo opciones múltiples\n",
    "\n",
    "edad=int(input(\"Ingrese edad: \"))\n",
    "if edad<0:\n",
    "    print(\"Error\")\n",
    "elif edad<18:\n",
    "    print(\"Menor de edad\")\n",
    "else:\n",
    "    print(\"Mayor de edad\")"
   ]
  },
  {
   "cell_type": "code",
   "execution_count": null,
   "metadata": {
    "colab": {},
    "colab_type": "code",
    "id": "IpluwhKcvNIW"
   },
   "outputs": [],
   "source": [
    "#el mismo ejemplo pero usando operadores lógicos\n",
    "edad=int(input(\"Ingrese edad: \"))\n",
    "if edad>=18:\n",
    "    print(\"Mayor de edad\")\n",
    "else:\n",
    "    if edad>=0 and edad<18:\n",
    "        print(\"Menor de edad\")\n",
    "    else: \n",
    "        print(\"Error\")"
   ]
  },
  {
   "cell_type": "markdown",
   "metadata": {
    "colab_type": "text",
    "id": "AlUHak3WvNIY"
   },
   "source": [
    "### Operadores para comparar:\n",
    "\n",
    "#### == ;    !=  ;   <   ;    >  ;     <=   ;     >="
   ]
  },
  {
   "cell_type": "code",
   "execution_count": null,
   "metadata": {
    "colab": {},
    "colab_type": "code",
    "id": "52JLxLAqvNIZ"
   },
   "outputs": [],
   "source": [
    "#Comparaciones\n",
    "nro1=int(input('Ingrese nro: '))\n",
    "nro2=int(input('Ingrese nro: '))\n",
    "if nro1==nro2:\n",
    "    print('\\nLos números ingresados son iguales')\n",
    "else:\n",
    "    print('\\nLos números ingresados son diferentes')"
   ]
  },
  {
   "cell_type": "code",
   "execution_count": null,
   "metadata": {
    "colab": {},
    "colab_type": "code",
    "id": "L-QKYfNYvNIc"
   },
   "outputs": [],
   "source": [
    "#Comparaciones\n",
    "nro1=int(input('Ingrese nro: '))\n",
    "nro2=int(input('Ingrese nro: '))\n",
    "if nro1!=nro2:\n",
    "    print('\\nLos números ingresados son distintos')\n",
    "else:\n",
    "    print('\\nLos números ingresados son iguales')"
   ]
  },
  {
   "cell_type": "code",
   "execution_count": null,
   "metadata": {
    "colab": {},
    "colab_type": "code",
    "id": "jIgLwtMdvNIe"
   },
   "outputs": [],
   "source": [
    "#Comparaciones\n",
    "nro1=int(input('Ingrese nro: '))\n",
    "nro2=int(input('Ingrese nro: '))\n",
    "if nro1>=nro2:\n",
    "    print('\\nEl primer número es mayor o igual que el segundo')\n",
    "else:\n",
    "    print('\\nEl primer número es menor que el segundo')"
   ]
  },
  {
   "cell_type": "markdown",
   "metadata": {
    "colab_type": "text",
    "id": "aulrYmkOvNIh"
   },
   "source": [
    "## 4.2 Estructuras de Repetición : for"
   ]
  },
  {
   "cell_type": "code",
   "execution_count": null,
   "metadata": {
    "colab": {},
    "colab_type": "code",
    "id": "UvRuNPWjvNIh"
   },
   "outputs": [],
   "source": [
    "#Ejemplo for en lista\n",
    "#Permite recorrer todos los elementos de una lista\n",
    "#En el mismo for se le pone nombre a la variable que almacena cada elemento\n",
    "#En este caso la lista se llama mis_numeros y cada elemento numero\n",
    "\n",
    "#El objetivo del código es sumar todos los elementos de la lista\n",
    "#El acumulador debe inicializarse en 0\n",
    "#De lo contrario guardará el valor en caso de hacerse otras corridas\n",
    "\n",
    "suma=0\n",
    "mis_numeros=[4,8,12,18] \n",
    "#la variable numero designará a los elementos de la lista\n",
    "for numero in mis_numeros:\n",
    "    suma=suma+numero\n",
    "    print(\"esto se imprime en cada ciclo porque está indexado\")\n",
    "\n",
    "print(\"esto se imprime fuera del ciclo\")\n",
    "print('La lista es',mis_numeros)\n",
    "print(\"La suma de los números de la lista es:\")\n",
    "print(suma)\n"
   ]
  },
  {
   "cell_type": "code",
   "execution_count": null,
   "metadata": {
    "colab": {},
    "colab_type": "code",
    "id": "MCxD01uIvNIk"
   },
   "outputs": [],
   "source": [
    "#For con función range\n",
    "#Función range:\n",
    "    #con un parámetro, este indica la cantidad de elementos. Empieza en 0, salto implícito 1.\n",
    "    #con dos parámetros, el primero indica el principio, el otro el final que es abierto (no lo incluye).\n",
    "    #con tres parámetros, indican principio, el final abierto, el paso o salto.\n",
    "#En los casos con dos o tres parámetros el intervalo es abierto a derecha.\n",
    "#Es decir que el segundo parámetro que indica el final abierto no pertenecerá a la lista\n",
    "\n",
    "print(\"Un for para range de 0 a 3\")\n",
    "for i in range(4):\n",
    "    print(i)\n",
    "#print()    \n",
    "\n",
    "print(\"Un for para range de 2 a 5:\")\n",
    "for j in range(2,6):\n",
    "    print(j)\n",
    "#print()\n",
    "\n",
    "print(\"Un for para range de 2 a 11, salto 3\")# Observar que no incluirá el 11\n",
    "for z in range(2,11,3):\n",
    "    print(z)\n",
    "  \n"
   ]
  },
  {
   "cell_type": "code",
   "execution_count": null,
   "metadata": {
    "colab": {},
    "colab_type": "code",
    "id": "xu_xGgv_vNIn"
   },
   "outputs": [],
   "source": [
    "#Ingreso números (variable que llamo dato)\n",
    "#range(n) me indica que ingresaré n números\n",
    "#los acumulo en una variable, en este caso llamada suma\n",
    "\n",
    "suma=0\n",
    "for z in range(4):\n",
    "    dato=int(input(\"ingrese número:\"))\n",
    "    suma+=dato\n",
    "print(\"suma= \", suma)\n"
   ]
  },
  {
   "cell_type": "code",
   "execution_count": null,
   "metadata": {
    "colab": {},
    "colab_type": "code",
    "id": "z8dToxufvNIp"
   },
   "outputs": [],
   "source": [
    "#Lista de strings. Nombre variable lista: imagenes\n",
    "#Nombre de la variable que designa a los elementos: imagen\n",
    "imagenes = ['lena', 'barbara', 'baboon']\n",
    "print(len(imagenes))\n",
    "for imagen in imagenes:\n",
    "    print(imagen)\n",
    "\n",
    "for imagen in imagenes:\n",
    "    print (\"El nombre de la imagen es: {0}, el largo del nombre es: {1}\".format(imagen, len(imagen)))"
   ]
  },
  {
   "cell_type": "markdown",
   "metadata": {
    "colab_type": "text",
    "id": "GM9wedApvNIs"
   },
   "source": [
    "### **Estructura de Repetición**\n",
    "\n",
    "\n",
    "** For con enumerate **\n"
   ]
  },
  {
   "cell_type": "code",
   "execution_count": 39,
   "metadata": {
    "colab": {},
    "colab_type": "code",
    "id": "Oq1drEW1vNIt"
   },
   "outputs": [
    {
     "name": "stdout",
     "output_type": "stream",
     "text": [
      "0 manzana\n",
      "1 bananas\n",
      "2 uvas\n",
      "3 peras\n"
     ]
    }
   ],
   "source": [
    "mi_lista = ['manzana', 'bananas', 'uvas', 'peras']\n",
    "# la primera variable (c en nuestro caso) es el contador\n",
    "# la segunda variable (valor en nuestro caso) es precisamente el valor almacenado en cada posición\n",
    "for c, valor in enumerate(mi_lista, 1):\n",
    "    print(c, valor)\n"
   ]
  },
  {
   "cell_type": "code",
   "execution_count": 37,
   "metadata": {
    "colab": {},
    "colab_type": "code",
    "id": "jBar5jqovNIw"
   },
   "outputs": [
    {
     "name": "stdout",
     "output_type": "stream",
     "text": [
      "[(1, 'apple'), (2, 'banana'), (3, 'grapes'), (4, 'pear')]\n",
      "(1, 'apple')\n",
      "1\n",
      "apple\n",
      "<class 'str'>\n"
     ]
    }
   ],
   "source": [
    "my_list = ['apple', 'banana', 'grapes', 'pear']\n",
    "counter_list = list(enumerate(my_list, 1))\n",
    "print(counter_list) \n",
    "print(counter_list[0]) \n",
    "print(counter_list[0][0]) \n",
    "print(counter_list[0][1]) \n",
    "print(type(counter_list[0][1]))\n",
    "# Output: [(1, 'apple'), (2, 'banana'), (3, 'grapes'), (4, 'pear')]"
   ]
  },
  {
   "cell_type": "code",
   "execution_count": 38,
   "metadata": {
    "colab": {},
    "colab_type": "code",
    "id": "WbVOATY9vNIz"
   },
   "outputs": [
    {
     "name": "stdout",
     "output_type": "stream",
     "text": [
      "[(1, 'apple')]\n",
      "[(1, 'apple'), (2, 'banana')]\n",
      "[(1, 'apple'), (2, 'banana'), (3, 'grapes')]\n",
      "[(1, 'apple'), (2, 'banana'), (3, 'grapes'), (4, 'pear')]\n"
     ]
    }
   ],
   "source": [
    "#otra forma\n",
    "my_list = ['apple', 'banana', 'grapes', 'pear']\n",
    "counter_list=[]\n",
    "for c, valor in enumerate(my_list, 1):\n",
    "    counter_list.append((c, valor))\n",
    "    print(counter_list) "
   ]
  },
  {
   "cell_type": "markdown",
   "metadata": {
    "colab_type": "text",
    "id": "9MllcldwvNI5"
   },
   "source": [
    "**Ejercicio 6:** \n",
    "* Defina una lista de 5 números\n",
    "* Recórrala (usando for) y para cada número imprima (print) si es impar o no (usar if y operadores)"
   ]
  }
 ],
 "metadata": {
  "colab": {
   "name": "Ntb1_Python_2020.ipynb",
   "provenance": []
  },
  "kernelspec": {
   "display_name": "Python 3",
   "language": "python",
   "name": "python3"
  },
  "language_info": {
   "codemirror_mode": {
    "name": "ipython",
    "version": 3
   },
   "file_extension": ".py",
   "mimetype": "text/x-python",
   "name": "python",
   "nbconvert_exporter": "python",
   "pygments_lexer": "ipython3",
   "version": "3.8.3"
  }
 },
 "nbformat": 4,
 "nbformat_minor": 1
}
