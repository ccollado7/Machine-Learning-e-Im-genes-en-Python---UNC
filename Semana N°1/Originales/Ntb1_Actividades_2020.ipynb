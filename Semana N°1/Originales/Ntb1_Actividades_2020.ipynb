{
 "cells": [
  {
   "cell_type": "markdown",
   "metadata": {},
   "source": [
    "# Actividad 1 Curso MLIP 2020\n",
    "\n",
    "A continuación, se listarán ejercicios similares a los vistos en la clase 1 para que sean resueltos y entregados en Google Classroom."
   ]
  },
  {
   "cell_type": "markdown",
   "metadata": {
    "colab_type": "text",
    "id": "wWqGBb9bL2qH"
   },
   "source": [
    "## Ejercicio 1: Tipo de datos\n",
    "\n",
    "a) Asignar un valor de cada tipo a 3 variables (ej: la variable *a* sea un valor \"string\", la variable *b* un valor \"int\" y la *c* un valor \"float\")\n",
    "\n",
    "b) Luego verificar los tipos de variable usando datos booleanos (\"boolean\"), por ejemplo:\n",
    "\n",
    "`print(type(a) == \"string\")`\n",
    "\n",
    "debería imprimir True si *a* fuese \"string\" o False si fuese \"float\" o \"int\"\n",
    "\n",
    "**Nota:** Recordar que para que una variable sea de un tipo debe asignarse un valor que lo declare automáticamente (ej: a = \"hola\" hace que *a* sea string) o forzarlo con el comando (ej: a = str(2) hace que *a* sea string aunque el 2 sea un entero)\n",
    "\n"
   ]
  },
  {
   "cell_type": "code",
   "execution_count": 4,
   "metadata": {
    "colab": {},
    "colab_type": "code",
    "executionInfo": {
     "elapsed": 651,
     "status": "ok",
     "timestamp": 1598372761170,
     "user": {
      "displayName": "Juanma López",
      "photoUrl": "https://lh3.googleusercontent.com/a-/AOh14Ggum8MWbU6cekwSb0FaxpVuLfMnlHuo_AFy1Y7vLQ=s64",
      "userId": "06697444655803170726"
     },
     "user_tz": 180
    },
    "id": "TQGvAdFLKm5q"
   },
   "outputs": [],
   "source": [
    "# ESCRIBA AQUÍ EL CÓDIGO. UTILICE TANTAS CELDAS COMO SEA NECESARIO."
   ]
  },
  {
   "cell_type": "markdown",
   "metadata": {
    "colab_type": "text",
    "id": "ywWutwXYcPBe"
   },
   "source": [
    "## Ejercicio 2:  Librería Numpy, Arreglos, Vectores\n",
    "\n",
    "a) Defina y muestre un vector *s* que empiece en 1, su paso sea igual a 4 y no supere el 27\n",
    "\n",
    "b) Muestre el sexto y el último lugar de *s*\n",
    "\n",
    "c) Genere un vector *r* desde el segundo elemento al 5\n",
    "\n",
    "d) Muestre el vector de los cuadrados de cada elemento de *r*. Asignele el nombre *q*\n",
    "\n",
    "e) Muestre el vector de cada elemento del anterior elevado a un exponente igual a dicho elemento. Asignele el nombre *t*"
   ]
  },
  {
   "cell_type": "code",
   "execution_count": 7,
   "metadata": {
    "colab": {},
    "colab_type": "code",
    "executionInfo": {
     "elapsed": 802,
     "status": "ok",
     "timestamp": 1598373425060,
     "user": {
      "displayName": "Juanma López",
      "photoUrl": "https://lh3.googleusercontent.com/a-/AOh14Ggum8MWbU6cekwSb0FaxpVuLfMnlHuo_AFy1Y7vLQ=s64",
      "userId": "06697444655803170726"
     },
     "user_tz": 180
    },
    "id": "MwPtGTercMry"
   },
   "outputs": [],
   "source": [
    "# ESCRIBA AQUÍ EL CÓDIGO. UTILICE TANTAS CELDAS COMO SEA NECESARIO."
   ]
  },
  {
   "cell_type": "markdown",
   "metadata": {
    "colab_type": "text",
    "id": "Zua7CODQebI5"
   },
   "source": [
    "## Ejercicio 3: Gráficos en Matplotlib\n",
    "\n",
    "Genere dos gráficos. Uno para el vector *s* del **Ejercicio 2** y otro donde ubique los vectores *r*, *q* y *t* diferenciandolos por color y tipo de línea como mejor lo considere. Asignele títulos acorde a cada uno de los gráficos."
   ]
  },
  {
   "cell_type": "code",
   "execution_count": 8,
   "metadata": {
    "colab": {},
    "colab_type": "code",
    "executionInfo": {
     "elapsed": 640,
     "status": "ok",
     "timestamp": 1598373941761,
     "user": {
      "displayName": "Juanma López",
      "photoUrl": "https://lh3.googleusercontent.com/a-/AOh14Ggum8MWbU6cekwSb0FaxpVuLfMnlHuo_AFy1Y7vLQ=s64",
      "userId": "06697444655803170726"
     },
     "user_tz": 180
    },
    "id": "d9a0cKQseaSD"
   },
   "outputs": [],
   "source": [
    "# ESCRIBA AQUÍ EL CÓDIGO. UTILICE TANTAS CELDAS COMO SEA NECESARIO."
   ]
  },
  {
   "cell_type": "markdown",
   "metadata": {
    "colab_type": "text",
    "id": "Zua7CODQebI5"
   },
   "source": [
    "## Ejercicio 4: Trabajo en clase\n",
    "\n",
    "Transcriba la consigna y resolución de alguno de los ejercicios propuestos y realizados en clase"
   ]
  },
  {
   "cell_type": "code",
   "execution_count": 8,
   "metadata": {
    "colab": {},
    "colab_type": "code",
    "executionInfo": {
     "elapsed": 640,
     "status": "ok",
     "timestamp": 1598373941761,
     "user": {
      "displayName": "Juanma López",
      "photoUrl": "https://lh3.googleusercontent.com/a-/AOh14Ggum8MWbU6cekwSb0FaxpVuLfMnlHuo_AFy1Y7vLQ=s64",
      "userId": "06697444655803170726"
     },
     "user_tz": 180
    },
    "id": "d9a0cKQseaSD"
   },
   "outputs": [],
   "source": [
    "# ESCRIBA AQUÍ EL CÓDIGO. UTILICE TANTAS CELDAS COMO SEA NECESARIO."
   ]
  },
  {
   "cell_type": "markdown",
   "metadata": {
    "colab_type": "text",
    "id": "c-_Vq2AZgt7b"
   },
   "source": [
    "## Ejercicio 5 (Opcional): Estructuras *for* e *if*\n",
    "\n",
    "a) Solicite al usuario el ingreso de un valor numérico que sea entero y positivo.\n",
    "b) Verifique que dicho valor cumpla las condiciones mencionadas (entero y positivo) con un condicional if (puede incluir la impresión de un mensaje que aclare el error que se pueda cometer)\n",
    "\n",
    "c) Si el valor cumple las condiciones, utilizar un bucle for para imprimir el mensaje \"Hola\" tantas veces como el valor ingresado lo indique."
   ]
  },
  {
   "cell_type": "code",
   "execution_count": null,
   "metadata": {
    "colab": {},
    "colab_type": "code",
    "id": "EzcSrv15gs7n"
   },
   "outputs": [],
   "source": [
    "# ESCRIBA AQUÍ EL CÓDIGO. UTILICE TANTAS CELDAS COMO SEA NECESARIO."
   ]
  }
 ],
 "metadata": {
  "colab": {
   "authorship_tag": "ABX9TyOp3n5+IdVm4uRrmo5dsQJ4",
   "name": "Ntb1_Actividades.ipynb",
   "provenance": []
  },
  "kernelspec": {
   "display_name": "Python 3",
   "language": "python",
   "name": "python3"
  },
  "language_info": {
   "codemirror_mode": {
    "name": "ipython",
    "version": 3
   },
   "file_extension": ".py",
   "mimetype": "text/x-python",
   "name": "python",
   "nbconvert_exporter": "python",
   "pygments_lexer": "ipython3",
   "version": "3.8.3"
  }
 },
 "nbformat": 4,
 "nbformat_minor": 1
}
